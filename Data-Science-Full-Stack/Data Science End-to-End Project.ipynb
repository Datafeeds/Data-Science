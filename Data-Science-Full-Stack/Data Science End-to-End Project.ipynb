{
 "cells": [
  {
   "cell_type": "code",
   "execution_count": 1,
   "metadata": {
    "collapsed": true
   },
   "outputs": [],
   "source": [
    "# Supressing all the warnings\n",
    "import warnings\n",
    "warnings.filterwarnings('ignore')"
   ]
  },
  {
   "cell_type": "markdown",
   "metadata": {
    "collapsed": true
   },
   "source": [
    "# 1. Data Cleansing and Visualization"
   ]
  },
  {
   "cell_type": "code",
   "execution_count": 2,
   "metadata": {
    "collapsed": false
   },
   "outputs": [
    {
     "data": {
      "text/html": [
       "<div>\n",
       "<table border=\"1\" class=\"dataframe\">\n",
       "  <thead>\n",
       "    <tr style=\"text-align: right;\">\n",
       "      <th></th>\n",
       "      <th>0</th>\n",
       "      <th>1</th>\n",
       "      <th>2</th>\n",
       "      <th>3</th>\n",
       "      <th>4</th>\n",
       "      <th>5</th>\n",
       "      <th>6</th>\n",
       "      <th>7</th>\n",
       "      <th>8</th>\n",
       "      <th>9</th>\n",
       "      <th>10</th>\n",
       "      <th>11</th>\n",
       "      <th>12</th>\n",
       "      <th>13</th>\n",
       "      <th>14</th>\n",
       "    </tr>\n",
       "  </thead>\n",
       "  <tbody>\n",
       "    <tr>\n",
       "      <th>0</th>\n",
       "      <td>39</td>\n",
       "      <td>State-gov</td>\n",
       "      <td>77516</td>\n",
       "      <td>Bachelors</td>\n",
       "      <td>13</td>\n",
       "      <td>Never-married</td>\n",
       "      <td>Adm-clerical</td>\n",
       "      <td>Not-in-family</td>\n",
       "      <td>White</td>\n",
       "      <td>Male</td>\n",
       "      <td>2174</td>\n",
       "      <td>0</td>\n",
       "      <td>40</td>\n",
       "      <td>United-States</td>\n",
       "      <td>&lt;=50K</td>\n",
       "    </tr>\n",
       "    <tr>\n",
       "      <th>1</th>\n",
       "      <td>31</td>\n",
       "      <td>Private</td>\n",
       "      <td>408208</td>\n",
       "      <td>HS-grad</td>\n",
       "      <td>9</td>\n",
       "      <td>Never-married</td>\n",
       "      <td>Machine-op-inspct</td>\n",
       "      <td>Not-in-family</td>\n",
       "      <td>Black</td>\n",
       "      <td>Male</td>\n",
       "      <td>0</td>\n",
       "      <td>0</td>\n",
       "      <td>30</td>\n",
       "      <td>United-States</td>\n",
       "      <td>&lt;=50K</td>\n",
       "    </tr>\n",
       "    <tr>\n",
       "      <th>2</th>\n",
       "      <td>54</td>\n",
       "      <td>Private</td>\n",
       "      <td>105638</td>\n",
       "      <td>9th</td>\n",
       "      <td>5</td>\n",
       "      <td>Married-civ-spouse</td>\n",
       "      <td>Craft-repair</td>\n",
       "      <td>Husband</td>\n",
       "      <td>White</td>\n",
       "      <td>Male</td>\n",
       "      <td>0</td>\n",
       "      <td>0</td>\n",
       "      <td>40</td>\n",
       "      <td>United-States</td>\n",
       "      <td>&lt;=50K</td>\n",
       "    </tr>\n",
       "    <tr>\n",
       "      <th>3</th>\n",
       "      <td>36</td>\n",
       "      <td>Private</td>\n",
       "      <td>81259</td>\n",
       "      <td>Assoc-acdm</td>\n",
       "      <td>12</td>\n",
       "      <td>Divorced</td>\n",
       "      <td>Prof-specialty</td>\n",
       "      <td>Unmarried</td>\n",
       "      <td>White</td>\n",
       "      <td>Female</td>\n",
       "      <td>0</td>\n",
       "      <td>0</td>\n",
       "      <td>36</td>\n",
       "      <td>United-States</td>\n",
       "      <td>&lt;=50K</td>\n",
       "    </tr>\n",
       "    <tr>\n",
       "      <th>4</th>\n",
       "      <td>37</td>\n",
       "      <td>Private</td>\n",
       "      <td>201141</td>\n",
       "      <td>HS-grad</td>\n",
       "      <td>9</td>\n",
       "      <td>Divorced</td>\n",
       "      <td>Machine-op-inspct</td>\n",
       "      <td>Unmarried</td>\n",
       "      <td>White</td>\n",
       "      <td>Female</td>\n",
       "      <td>0</td>\n",
       "      <td>0</td>\n",
       "      <td>40</td>\n",
       "      <td>United-States</td>\n",
       "      <td>&lt;=50K</td>\n",
       "    </tr>\n",
       "  </tbody>\n",
       "</table>\n",
       "</div>"
      ],
      "text/plain": [
       "   0          1       2           3   4                   5   \\\n",
       "0  39  State-gov   77516   Bachelors  13       Never-married   \n",
       "1  31    Private  408208     HS-grad   9       Never-married   \n",
       "2  54    Private  105638         9th   5  Married-civ-spouse   \n",
       "3  36    Private   81259  Assoc-acdm  12            Divorced   \n",
       "4  37    Private  201141     HS-grad   9            Divorced   \n",
       "\n",
       "                  6              7      8       9     10  11  12  \\\n",
       "0       Adm-clerical  Not-in-family  White    Male  2174   0  40   \n",
       "1  Machine-op-inspct  Not-in-family  Black    Male     0   0  30   \n",
       "2       Craft-repair        Husband  White    Male     0   0  40   \n",
       "3     Prof-specialty      Unmarried  White  Female     0   0  36   \n",
       "4  Machine-op-inspct      Unmarried  White  Female     0   0  40   \n",
       "\n",
       "              13     14  \n",
       "0  United-States  <=50K  \n",
       "1  United-States  <=50K  \n",
       "2  United-States  <=50K  \n",
       "3  United-States  <=50K  \n",
       "4  United-States  <=50K  "
      ]
     },
     "execution_count": 2,
     "metadata": {},
     "output_type": "execute_result"
    }
   ],
   "source": [
    "# Reading training data\n",
    "import pandas as pd\n",
    "train_data = pd.read_csv('train_data.txt', header = None )\n",
    "train_data.head()"
   ]
  },
  {
   "cell_type": "markdown",
   "metadata": {},
   "source": [
    "*** Since the data does not have header, lets add the column names***"
   ]
  },
  {
   "cell_type": "code",
   "execution_count": 3,
   "metadata": {
    "collapsed": false
   },
   "outputs": [],
   "source": [
    "colName = ('Age', 'Workclass', 'Fnlgwt', 'Education', 'Education_Num', 'Marital_Status', 'Occupation', \n",
    "           'Relationship', 'Race', 'Sex', 'Capital_Gain', 'Capital_Loss', 'Hours', 'Country', 'Salary')\n",
    "train_data.columns = colName"
   ]
  },
  {
   "cell_type": "code",
   "execution_count": 4,
   "metadata": {
    "collapsed": false
   },
   "outputs": [
    {
     "data": {
      "text/html": [
       "<div>\n",
       "<table border=\"1\" class=\"dataframe\">\n",
       "  <thead>\n",
       "    <tr style=\"text-align: right;\">\n",
       "      <th></th>\n",
       "      <th>Age</th>\n",
       "      <th>Workclass</th>\n",
       "      <th>Fnlgwt</th>\n",
       "      <th>Education</th>\n",
       "      <th>Education_Num</th>\n",
       "      <th>Marital_Status</th>\n",
       "      <th>Occupation</th>\n",
       "      <th>Relationship</th>\n",
       "      <th>Race</th>\n",
       "      <th>Sex</th>\n",
       "      <th>Capital_Gain</th>\n",
       "      <th>Capital_Loss</th>\n",
       "      <th>Hours</th>\n",
       "      <th>Country</th>\n",
       "      <th>Salary</th>\n",
       "    </tr>\n",
       "  </thead>\n",
       "  <tbody>\n",
       "    <tr>\n",
       "      <th>0</th>\n",
       "      <td>39</td>\n",
       "      <td>State-gov</td>\n",
       "      <td>77516</td>\n",
       "      <td>Bachelors</td>\n",
       "      <td>13</td>\n",
       "      <td>Never-married</td>\n",
       "      <td>Adm-clerical</td>\n",
       "      <td>Not-in-family</td>\n",
       "      <td>White</td>\n",
       "      <td>Male</td>\n",
       "      <td>2174</td>\n",
       "      <td>0</td>\n",
       "      <td>40</td>\n",
       "      <td>United-States</td>\n",
       "      <td>&lt;=50K</td>\n",
       "    </tr>\n",
       "    <tr>\n",
       "      <th>1</th>\n",
       "      <td>31</td>\n",
       "      <td>Private</td>\n",
       "      <td>408208</td>\n",
       "      <td>HS-grad</td>\n",
       "      <td>9</td>\n",
       "      <td>Never-married</td>\n",
       "      <td>Machine-op-inspct</td>\n",
       "      <td>Not-in-family</td>\n",
       "      <td>Black</td>\n",
       "      <td>Male</td>\n",
       "      <td>0</td>\n",
       "      <td>0</td>\n",
       "      <td>30</td>\n",
       "      <td>United-States</td>\n",
       "      <td>&lt;=50K</td>\n",
       "    </tr>\n",
       "    <tr>\n",
       "      <th>2</th>\n",
       "      <td>54</td>\n",
       "      <td>Private</td>\n",
       "      <td>105638</td>\n",
       "      <td>9th</td>\n",
       "      <td>5</td>\n",
       "      <td>Married-civ-spouse</td>\n",
       "      <td>Craft-repair</td>\n",
       "      <td>Husband</td>\n",
       "      <td>White</td>\n",
       "      <td>Male</td>\n",
       "      <td>0</td>\n",
       "      <td>0</td>\n",
       "      <td>40</td>\n",
       "      <td>United-States</td>\n",
       "      <td>&lt;=50K</td>\n",
       "    </tr>\n",
       "    <tr>\n",
       "      <th>3</th>\n",
       "      <td>36</td>\n",
       "      <td>Private</td>\n",
       "      <td>81259</td>\n",
       "      <td>Assoc-acdm</td>\n",
       "      <td>12</td>\n",
       "      <td>Divorced</td>\n",
       "      <td>Prof-specialty</td>\n",
       "      <td>Unmarried</td>\n",
       "      <td>White</td>\n",
       "      <td>Female</td>\n",
       "      <td>0</td>\n",
       "      <td>0</td>\n",
       "      <td>36</td>\n",
       "      <td>United-States</td>\n",
       "      <td>&lt;=50K</td>\n",
       "    </tr>\n",
       "    <tr>\n",
       "      <th>4</th>\n",
       "      <td>37</td>\n",
       "      <td>Private</td>\n",
       "      <td>201141</td>\n",
       "      <td>HS-grad</td>\n",
       "      <td>9</td>\n",
       "      <td>Divorced</td>\n",
       "      <td>Machine-op-inspct</td>\n",
       "      <td>Unmarried</td>\n",
       "      <td>White</td>\n",
       "      <td>Female</td>\n",
       "      <td>0</td>\n",
       "      <td>0</td>\n",
       "      <td>40</td>\n",
       "      <td>United-States</td>\n",
       "      <td>&lt;=50K</td>\n",
       "    </tr>\n",
       "  </tbody>\n",
       "</table>\n",
       "</div>"
      ],
      "text/plain": [
       "   Age  Workclass  Fnlgwt   Education  Education_Num      Marital_Status  \\\n",
       "0   39  State-gov   77516   Bachelors             13       Never-married   \n",
       "1   31    Private  408208     HS-grad              9       Never-married   \n",
       "2   54    Private  105638         9th              5  Married-civ-spouse   \n",
       "3   36    Private   81259  Assoc-acdm             12            Divorced   \n",
       "4   37    Private  201141     HS-grad              9            Divorced   \n",
       "\n",
       "          Occupation   Relationship   Race     Sex  Capital_Gain  \\\n",
       "0       Adm-clerical  Not-in-family  White    Male          2174   \n",
       "1  Machine-op-inspct  Not-in-family  Black    Male             0   \n",
       "2       Craft-repair        Husband  White    Male             0   \n",
       "3     Prof-specialty      Unmarried  White  Female             0   \n",
       "4  Machine-op-inspct      Unmarried  White  Female             0   \n",
       "\n",
       "   Capital_Loss  Hours        Country Salary  \n",
       "0             0     40  United-States  <=50K  \n",
       "1             0     30  United-States  <=50K  \n",
       "2             0     40  United-States  <=50K  \n",
       "3             0     36  United-States  <=50K  \n",
       "4             0     40  United-States  <=50K  "
      ]
     },
     "execution_count": 4,
     "metadata": {},
     "output_type": "execute_result"
    }
   ],
   "source": [
    "train_data.head()"
   ]
  },
  {
   "cell_type": "code",
   "execution_count": 5,
   "metadata": {
    "collapsed": false
   },
   "outputs": [
    {
     "data": {
      "text/html": [
       "<div>\n",
       "<table border=\"1\" class=\"dataframe\">\n",
       "  <thead>\n",
       "    <tr style=\"text-align: right;\">\n",
       "      <th></th>\n",
       "      <th>Age</th>\n",
       "      <th>Fnlgwt</th>\n",
       "      <th>Education_Num</th>\n",
       "      <th>Capital_Gain</th>\n",
       "      <th>Capital_Loss</th>\n",
       "      <th>Hours</th>\n",
       "    </tr>\n",
       "  </thead>\n",
       "  <tbody>\n",
       "    <tr>\n",
       "      <th>count</th>\n",
       "      <td>32661.000000</td>\n",
       "      <td>3.266100e+04</td>\n",
       "      <td>32661.000000</td>\n",
       "      <td>32661.000000</td>\n",
       "      <td>32661.000000</td>\n",
       "      <td>32661.000000</td>\n",
       "    </tr>\n",
       "    <tr>\n",
       "      <th>mean</th>\n",
       "      <td>38.580233</td>\n",
       "      <td>1.898107e+05</td>\n",
       "      <td>10.081381</td>\n",
       "      <td>1075.785371</td>\n",
       "      <td>87.481400</td>\n",
       "      <td>40.447016</td>\n",
       "    </tr>\n",
       "    <tr>\n",
       "      <th>std</th>\n",
       "      <td>13.634222</td>\n",
       "      <td>1.056104e+05</td>\n",
       "      <td>2.573046</td>\n",
       "      <td>7374.865205</td>\n",
       "      <td>403.453769</td>\n",
       "      <td>12.350244</td>\n",
       "    </tr>\n",
       "    <tr>\n",
       "      <th>min</th>\n",
       "      <td>17.000000</td>\n",
       "      <td>1.228500e+04</td>\n",
       "      <td>1.000000</td>\n",
       "      <td>0.000000</td>\n",
       "      <td>0.000000</td>\n",
       "      <td>1.000000</td>\n",
       "    </tr>\n",
       "    <tr>\n",
       "      <th>25%</th>\n",
       "      <td>28.000000</td>\n",
       "      <td>1.178330e+05</td>\n",
       "      <td>9.000000</td>\n",
       "      <td>0.000000</td>\n",
       "      <td>0.000000</td>\n",
       "      <td>40.000000</td>\n",
       "    </tr>\n",
       "    <tr>\n",
       "      <th>50%</th>\n",
       "      <td>37.000000</td>\n",
       "      <td>1.783830e+05</td>\n",
       "      <td>10.000000</td>\n",
       "      <td>0.000000</td>\n",
       "      <td>0.000000</td>\n",
       "      <td>40.000000</td>\n",
       "    </tr>\n",
       "    <tr>\n",
       "      <th>75%</th>\n",
       "      <td>48.000000</td>\n",
       "      <td>2.372290e+05</td>\n",
       "      <td>12.000000</td>\n",
       "      <td>0.000000</td>\n",
       "      <td>0.000000</td>\n",
       "      <td>45.000000</td>\n",
       "    </tr>\n",
       "    <tr>\n",
       "      <th>max</th>\n",
       "      <td>90.000000</td>\n",
       "      <td>1.484705e+06</td>\n",
       "      <td>16.000000</td>\n",
       "      <td>99999.000000</td>\n",
       "      <td>4356.000000</td>\n",
       "      <td>99.000000</td>\n",
       "    </tr>\n",
       "  </tbody>\n",
       "</table>\n",
       "</div>"
      ],
      "text/plain": [
       "                Age        Fnlgwt  Education_Num  Capital_Gain  Capital_Loss  \\\n",
       "count  32661.000000  3.266100e+04   32661.000000  32661.000000  32661.000000   \n",
       "mean      38.580233  1.898107e+05      10.081381   1075.785371     87.481400   \n",
       "std       13.634222  1.056104e+05       2.573046   7374.865205    403.453769   \n",
       "min       17.000000  1.228500e+04       1.000000      0.000000      0.000000   \n",
       "25%       28.000000  1.178330e+05       9.000000      0.000000      0.000000   \n",
       "50%       37.000000  1.783830e+05      10.000000      0.000000      0.000000   \n",
       "75%       48.000000  2.372290e+05      12.000000      0.000000      0.000000   \n",
       "max       90.000000  1.484705e+06      16.000000  99999.000000   4356.000000   \n",
       "\n",
       "              Hours  \n",
       "count  32661.000000  \n",
       "mean      40.447016  \n",
       "std       12.350244  \n",
       "min        1.000000  \n",
       "25%       40.000000  \n",
       "50%       40.000000  \n",
       "75%       45.000000  \n",
       "max       99.000000  "
      ]
     },
     "execution_count": 5,
     "metadata": {},
     "output_type": "execute_result"
    }
   ],
   "source": [
    "train_data.describe()"
   ]
  },
  {
   "cell_type": "code",
   "execution_count": 6,
   "metadata": {
    "collapsed": false
   },
   "outputs": [
    {
     "data": {
      "text/plain": [
       "32661"
      ]
     },
     "execution_count": 6,
     "metadata": {},
     "output_type": "execute_result"
    }
   ],
   "source": [
    "len(train_data)"
   ]
  },
  {
   "cell_type": "code",
   "execution_count": 7,
   "metadata": {
    "collapsed": false
   },
   "outputs": [
    {
     "data": {
      "text/plain": [
       "30254"
      ]
     },
     "execution_count": 7,
     "metadata": {},
     "output_type": "execute_result"
    }
   ],
   "source": [
    "train_data.dropna(axis = 0, how = 'any', inplace = True)\n",
    "len(train_data)"
   ]
  },
  {
   "cell_type": "markdown",
   "metadata": {},
   "source": [
    "*** The volume of the data is enough for developing a machine learning model  even if we drop the null values. So, lets just drop these values instead of replacing them by other values ***"
   ]
  },
  {
   "cell_type": "markdown",
   "metadata": {},
   "source": [
    "### 1.1 Feature Engineering"
   ]
  },
  {
   "cell_type": "code",
   "execution_count": 8,
   "metadata": {
    "collapsed": false
   },
   "outputs": [
    {
     "data": {
      "image/png": "[encoded data removed]",
      "text/plain": [
       "<matplotlib.figure.Figure at 0x1532002ab00>"
      ]
     },
     "metadata": {},
     "output_type": "display_data"
    }
   ],
   "source": [
    "# Age distributuion\n",
    "import matplotlib.pyplot as plt\n",
    "train_data.Age.hist()\n",
    "plt.show()"
   ]
  },
  {
   "cell_type": "markdown",
   "metadata": {},
   "source": [
    "*** Since this data contains a lot of categorical values and the categories seems to be somehove duplicated in many columns. We will feature engineer each column and try to make the data clean hereafter.***"
   ]
  },
  {
   "cell_type": "code",
   "execution_count": 9,
   "metadata": {
    "collapsed": false
   },
   "outputs": [
    {
     "data": {
      "text/plain": [
       "array(['State-gov', 'Private', 'Federal-gov', 'Self-emp-inc',\n",
       "       'Self-emp-not-inc', 'Local-gov', 'Without-pay'], dtype=object)"
      ]
     },
     "execution_count": 9,
     "metadata": {},
     "output_type": "execute_result"
    }
   ],
   "source": [
    "train_data.Workclass.unique()"
   ]
  },
  {
   "cell_type": "code",
   "execution_count": 10,
   "metadata": {
    "collapsed": false
   },
   "outputs": [
    {
     "data": {
      "text/plain": [
       "array(['Gov', 'Private', 'Self Emp', 'Volunteer'], dtype=object)"
      ]
     },
     "execution_count": 10,
     "metadata": {},
     "output_type": "execute_result"
    }
   ],
   "source": [
    "train_data.loc[train_data['Workclass'].str.endswith('-gov'), 'Workclass'] = 'Gov'\n",
    "train_data.loc[train_data['Workclass'].str.startswith('Self'), 'Workclass'] = 'Self Emp'\n",
    "train_data.loc[train_data['Workclass'].str.startswith('Without'), 'Workclass'] = 'Volunteer'\n",
    "\n",
    "train_data.Workclass.unique()"
   ]
  },
  {
   "cell_type": "code",
   "execution_count": 11,
   "metadata": {
    "collapsed": false
   },
   "outputs": [
    {
     "data": {
      "image/png": "[encoded data removed]",
      "text/plain": [
       "<matplotlib.figure.Figure at 0x15320c8a4e0>"
      ]
     },
     "metadata": {},
     "output_type": "display_data"
    }
   ],
   "source": [
    "workclass = train_data.groupby('Workclass').count().Age.sort_values(ascending = False)\n",
    "workclass.plot(kind = 'barh', colormap = 'RdBu', legend = False)\n",
    "plt.xlabel('Count')\n",
    "plt.xscale('log')\n",
    "plt.show()"
   ]
  },
  {
   "cell_type": "code",
   "execution_count": 12,
   "metadata": {
    "collapsed": false
   },
   "outputs": [
    {
     "data": {
      "text/plain": [
       "array(['Bachelors', 'HS-grad', '9th', 'Assoc-acdm', 'Prof-school',\n",
       "       'Some-college', 'Masters', 'Assoc-voc', '11th', '10th', '5th-6th',\n",
       "       '12th', 'Doctorate', '7th-8th', 'Preschool', '1st-4th'], dtype=object)"
      ]
     },
     "execution_count": 12,
     "metadata": {},
     "output_type": "execute_result"
    }
   ],
   "source": [
    "train_data.Education.unique()"
   ]
  },
  {
   "cell_type": "code",
   "execution_count": 13,
   "metadata": {
    "collapsed": false
   },
   "outputs": [
    {
     "data": {
      "text/plain": [
       "array(['Bachelors', 'High School', 'Literate', 'Associate', 'Some College',\n",
       "       'Masters', 'Doctorate'], dtype=object)"
      ]
     },
     "execution_count": 13,
     "metadata": {},
     "output_type": "execute_result"
    }
   ],
   "source": [
    "train_data.loc[train_data['Education'].str.endswith('th'), 'Education'] = 'Literate'\n",
    "train_data.loc[train_data['Education'].str.startswith('Preschool'), 'Education'] = 'Literate'\n",
    "train_data.loc[train_data['Education'].str.startswith('HS-grad'), 'Education'] = 'High School'\n",
    "train_data.loc[train_data['Education'].str.startswith('Assoc'), 'Education'] = 'Associate'\n",
    "train_data.loc[train_data['Education'].str.startswith('Prof-school'), 'Education'] = 'Associate'\n",
    "train_data.loc[train_data['Education'].str.startswith('Some-college'), 'Education'] = 'Some College'\n",
    "\n",
    "train_data.Education.unique()"
   ]
  },
  {
   "cell_type": "code",
   "execution_count": 14,
   "metadata": {
    "collapsed": false
   },
   "outputs": [
    {
     "data": {
      "text/plain": [
       "array(['Male', 'Female'], dtype=object)"
      ]
     },
     "execution_count": 14,
     "metadata": {},
     "output_type": "execute_result"
    }
   ],
   "source": [
    "train_data.Sex.unique()"
   ]
  },
  {
   "cell_type": "code",
   "execution_count": 15,
   "metadata": {
    "collapsed": false
   },
   "outputs": [
    {
     "data": {
      "image/png": "[encoded data removed]",
      "text/plain": [
       "<matplotlib.figure.Figure at 0x15320d88eb8>"
      ]
     },
     "metadata": {},
     "output_type": "display_data"
    }
   ],
   "source": [
    "import numpy as np\n",
    "education = train_data.groupby(['Education', 'Sex']).count().Age.unstack(level = 1).sort()\n",
    "\n",
    "edList = education.index\n",
    "ind = np.arange(len(education['Male']))\n",
    "width = 0.8\n",
    "plt.bar(ind, education['Male'], width, color = '#d62728', align = 'center')\n",
    "plt.bar(ind, education['Female'], width, bottom = education['Male'], align = 'center')\n",
    "plt.ylabel('Count')\n",
    "plt.title('Gender vs Education \\n')\n",
    "plt.xticks(ind, edList, rotation = 45)\n",
    "plt.legend(('Male', 'Female'), loc = 2)\n",
    "# plt.yscale('log')\n",
    "plt.show()"
   ]
  },
  {
   "cell_type": "code",
   "execution_count": 16,
   "metadata": {
    "collapsed": false
   },
   "outputs": [
    {
     "data": {
      "text/plain": [
       "array([13,  9,  5, 12, 15, 10, 14, 11,  7,  6,  3,  8, 16,  4,  1,  2], dtype=int64)"
      ]
     },
     "execution_count": 16,
     "metadata": {},
     "output_type": "execute_result"
    }
   ],
   "source": [
    "train_data.Education_Num.unique()"
   ]
  },
  {
   "cell_type": "markdown",
   "metadata": {},
   "source": [
    "*** Since we already have 'Education' feature, let's drop this feature to avoid redundancy***"
   ]
  },
  {
   "cell_type": "code",
   "execution_count": 17,
   "metadata": {
    "collapsed": false
   },
   "outputs": [],
   "source": [
    "train_data.drop('Education_Num', axis=1, inplace=True)"
   ]
  },
  {
   "cell_type": "code",
   "execution_count": 18,
   "metadata": {
    "collapsed": false
   },
   "outputs": [
    {
     "data": {
      "text/plain": [
       "array(['Never-married', 'Married-civ-spouse', 'Divorced',\n",
       "       'Married-spouse-absent', 'Separated', 'Widowed', 'Married-AF-spouse'], dtype=object)"
      ]
     },
     "execution_count": 18,
     "metadata": {},
     "output_type": "execute_result"
    }
   ],
   "source": [
    "train_data.Marital_Status.unique()"
   ]
  },
  {
   "cell_type": "code",
   "execution_count": 19,
   "metadata": {
    "collapsed": false
   },
   "outputs": [
    {
     "data": {
      "text/plain": [
       "array(['Single', 'Married', 'Divorced', 'Widowed'], dtype=object)"
      ]
     },
     "execution_count": 19,
     "metadata": {},
     "output_type": "execute_result"
    }
   ],
   "source": [
    "train_data.loc[train_data['Marital_Status'].str.startswith('Married'), 'Marital_Status'] = 'Married'\n",
    "train_data.loc[train_data['Marital_Status'].str.startswith('Never-married'), 'Marital_Status'] = 'Single'\n",
    "train_data.loc[train_data['Marital_Status'].str.startswith('Separated'), 'Marital_Status'] = 'Divorced'\n",
    "\n",
    "train_data.Marital_Status.unique()"
   ]
  },
  {
   "cell_type": "code",
   "execution_count": 20,
   "metadata": {
    "collapsed": false
   },
   "outputs": [
    {
     "data": {
      "image/png": "[encoded data removed]",
      "text/plain": [
       "<matplotlib.figure.Figure at 0x15320cf28d0>"
      ]
     },
     "metadata": {},
     "output_type": "display_data"
    }
   ],
   "source": [
    "marital = train_data.groupby('Marital_Status').count().Age.sort_values(ascending = False)\n",
    "marital.plot(kind = 'barh', colormap = 'RdBu', legend = False)\n",
    "plt.xlabel('Count')\n",
    "plt.show()"
   ]
  },
  {
   "cell_type": "code",
   "execution_count": 21,
   "metadata": {
    "collapsed": false
   },
   "outputs": [
    {
     "data": {
      "text/plain": [
       "array(['Adm-clerical', 'Machine-op-inspct', 'Craft-repair',\n",
       "       'Prof-specialty', 'Armed-Forces', 'Transport-moving',\n",
       "       'Other-service', 'Exec-managerial', 'Handlers-cleaners',\n",
       "       'Tech-support', 'Sales', 'Protective-serv', 'Farming-fishing',\n",
       "       'Priv-house-serv'], dtype=object)"
      ]
     },
     "execution_count": 21,
     "metadata": {},
     "output_type": "execute_result"
    }
   ],
   "source": [
    "train_data.Occupation.unique()"
   ]
  },
  {
   "cell_type": "code",
   "execution_count": 22,
   "metadata": {
    "collapsed": false
   },
   "outputs": [
    {
     "data": {
      "text/plain": [
       "array(['Clerical', 'Mechanical', 'Professional', 'Protective', 'Transport',\n",
       "       'Other', 'Executive', 'Sales', 'Farming'], dtype=object)"
      ]
     },
     "execution_count": 22,
     "metadata": {},
     "output_type": "execute_result"
    }
   ],
   "source": [
    "train_data.loc[train_data['Occupation'] == 'Adm-clerical', 'Occupation'] = 'Clerical'\n",
    "train_data.loc[train_data['Occupation'] == 'Exec-managerial', 'Occupation'] = 'Executive'\n",
    "train_data.loc[train_data['Occupation'] == 'Handlers-cleaners', 'Occupation'] = 'Clerical'\n",
    "train_data.loc[train_data['Occupation'] == 'Prof-specialty', 'Occupation'] = 'Professional'\n",
    "train_data.loc[train_data['Occupation'] == 'Other-service', 'Occupation'] = 'Other'\n",
    "train_data.loc[train_data['Occupation'] == 'Sales', 'Occupation'] = 'Sales'\n",
    "train_data.loc[train_data['Occupation'] == 'Transport-moving', 'Occupation'] = 'Transport'\n",
    "train_data.loc[train_data['Occupation'] == 'Farming-fishing', 'Occupation'] = 'Farming'\n",
    "train_data.loc[train_data['Occupation'] == 'Machine-op-inspct', 'Occupation'] = 'Mechanical'\n",
    "train_data.loc[train_data['Occupation'] == 'Tech-support', 'Occupation'] = 'Professional'\n",
    "train_data.loc[train_data['Occupation'] == 'Craft-repair', 'Occupation'] = 'Mechanical'\n",
    "train_data.loc[train_data['Occupation'] == 'Protective-serv', 'Occupation'] = 'Protective'\n",
    "train_data.loc[train_data['Occupation'] == 'Armed-Forces', 'Occupation'] = 'Protective'\n",
    "train_data.loc[train_data['Occupation'] == 'Priv-house-serv', 'Occupation'] = 'Clerical'\n",
    "\n",
    "train_data.Occupation.unique()"
   ]
  },
  {
   "cell_type": "code",
   "execution_count": 23,
   "metadata": {
    "collapsed": false
   },
   "outputs": [
    {
     "data": {
      "image/png": "[encoded data removed]",
      "text/plain": [
       "<matplotlib.figure.Figure at 0x15320ffacc0>"
      ]
     },
     "metadata": {},
     "output_type": "display_data"
    }
   ],
   "source": [
    "occupation = train_data.groupby('Occupation').count().Age.sort_values(ascending = False)\n",
    "occupation.plot(kind = 'barh', colormap = 'RdBu', legend = False)\n",
    "plt.xlabel('Count')\n",
    "plt.show()"
   ]
  },
  {
   "cell_type": "code",
   "execution_count": 24,
   "metadata": {
    "collapsed": false
   },
   "outputs": [
    {
     "data": {
      "image/png": "[encoded data removed]",
      "text/plain": [
       "<matplotlib.figure.Figure at 0x15320daeef0>"
      ]
     },
     "metadata": {},
     "output_type": "display_data"
    }
   ],
   "source": [
    "occupation = train_data.groupby(['Occupation', 'Sex']).count().Age.unstack(level = 1)\n",
    "width = 0.4\n",
    "ind = np.arange(len(occupation['Male']))\n",
    "occList = occupation.index\n",
    "plt.figure(figsize=(8,6))\n",
    "plt.bar(ind, occupation['Male'], width, color = 'b', align = 'center')\n",
    "plt.bar(ind + width, occupation['Female'], width, color = 'r', align = 'center')\n",
    "plt.ylabel('Count')\n",
    "plt.title('Gender Distribution by Occupation \\n')\n",
    "plt.xticks(ind + width/2, occList, rotation = 90)\n",
    "plt.legend(('Male', 'Female'), loc = 2)\n",
    "plt.show()"
   ]
  },
  {
   "cell_type": "code",
   "execution_count": 25,
   "metadata": {
    "collapsed": false
   },
   "outputs": [
    {
     "data": {
      "text/plain": [
       "array(['Not-in-family', 'Husband', 'Unmarried', 'Own-child', 'Wife',\n",
       "       'Other-relative'], dtype=object)"
      ]
     },
     "execution_count": 25,
     "metadata": {},
     "output_type": "execute_result"
    }
   ],
   "source": [
    "train_data.Relationship.unique()"
   ]
  },
  {
   "cell_type": "code",
   "execution_count": 26,
   "metadata": {
    "collapsed": false
   },
   "outputs": [
    {
     "data": {
      "text/plain": [
       "array(['Not in Family', 'Husband', 'Other', 'Wife'], dtype=object)"
      ]
     },
     "execution_count": 26,
     "metadata": {},
     "output_type": "execute_result"
    }
   ],
   "source": [
    "train_data.loc[train_data['Relationship'] == 'Not-in-family', 'Relationship'] = 'Not in Family'\n",
    "train_data.loc[train_data['Relationship'] == 'Own-child', 'Relationship'] = 'Other'\n",
    "train_data.loc[train_data['Relationship'] == 'Unmarried', 'Relationship'] = 'Other'\n",
    "train_data.loc[train_data['Relationship'] == 'Other-relative', 'Relationship'] = 'Other'\n",
    "\n",
    "train_data.Relationship.unique()"
   ]
  },
  {
   "cell_type": "code",
   "execution_count": 27,
   "metadata": {
    "collapsed": false
   },
   "outputs": [
    {
     "data": {
      "text/plain": [
       "array(['White', 'Black', 'Asian-Pac-Islander', 'Amer-Indian-Eskimo',\n",
       "       'Other'], dtype=object)"
      ]
     },
     "execution_count": 27,
     "metadata": {},
     "output_type": "execute_result"
    }
   ],
   "source": [
    "train_data.Race.unique()"
   ]
  },
  {
   "cell_type": "code",
   "execution_count": 28,
   "metadata": {
    "collapsed": true
   },
   "outputs": [],
   "source": [
    "train_data.loc[train_data['Race'] == 'Asian-Pac-Islander', 'Race'] = 'Asian'\n",
    "train_data.loc[train_data['Race'] == 'Amer-Indian-Eskimo', 'Race'] = 'American Indian'"
   ]
  },
  {
   "cell_type": "code",
   "execution_count": 29,
   "metadata": {
    "collapsed": false
   },
   "outputs": [
    {
     "data": {
      "text/html": [
       "<div>\n",
       "<table border=\"1\" class=\"dataframe\">\n",
       "  <thead>\n",
       "    <tr style=\"text-align: right;\">\n",
       "      <th>Education</th>\n",
       "      <th>Associate</th>\n",
       "      <th>Bachelors</th>\n",
       "      <th>Doctorate</th>\n",
       "      <th>High School</th>\n",
       "      <th>Literate</th>\n",
       "      <th>Masters</th>\n",
       "      <th>Some College</th>\n",
       "    </tr>\n",
       "    <tr>\n",
       "      <th>Race</th>\n",
       "      <th></th>\n",
       "      <th></th>\n",
       "      <th></th>\n",
       "      <th></th>\n",
       "      <th></th>\n",
       "      <th></th>\n",
       "      <th></th>\n",
       "    </tr>\n",
       "  </thead>\n",
       "  <tbody>\n",
       "    <tr>\n",
       "      <th>American Indian</th>\n",
       "      <td>25</td>\n",
       "      <td>20</td>\n",
       "      <td>2</td>\n",
       "      <td>116</td>\n",
       "      <td>47</td>\n",
       "      <td>5</td>\n",
       "      <td>71</td>\n",
       "    </tr>\n",
       "    <tr>\n",
       "      <th>Asian</th>\n",
       "      <td>97</td>\n",
       "      <td>253</td>\n",
       "      <td>26</td>\n",
       "      <td>194</td>\n",
       "      <td>75</td>\n",
       "      <td>82</td>\n",
       "      <td>171</td>\n",
       "    </tr>\n",
       "    <tr>\n",
       "      <th>Black</th>\n",
       "      <td>223</td>\n",
       "      <td>302</td>\n",
       "      <td>8</td>\n",
       "      <td>1064</td>\n",
       "      <td>460</td>\n",
       "      <td>79</td>\n",
       "      <td>691</td>\n",
       "    </tr>\n",
       "    <tr>\n",
       "      <th>Other</th>\n",
       "      <td>18</td>\n",
       "      <td>23</td>\n",
       "      <td>1</td>\n",
       "      <td>69</td>\n",
       "      <td>71</td>\n",
       "      <td>5</td>\n",
       "      <td>44</td>\n",
       "    </tr>\n",
       "    <tr>\n",
       "      <th>White</th>\n",
       "      <td>2505</td>\n",
       "      <td>4464</td>\n",
       "      <td>339</td>\n",
       "      <td>8426</td>\n",
       "      <td>3099</td>\n",
       "      <td>1461</td>\n",
       "      <td>5718</td>\n",
       "    </tr>\n",
       "  </tbody>\n",
       "</table>\n",
       "</div>"
      ],
      "text/plain": [
       "Education        Associate  Bachelors  Doctorate  High School  Literate  \\\n",
       "Race                                                                      \n",
       "American Indian         25         20          2          116        47   \n",
       "Asian                   97        253         26          194        75   \n",
       "Black                  223        302          8         1064       460   \n",
       "Other                   18         23          1           69        71   \n",
       "White                 2505       4464        339         8426      3099   \n",
       "\n",
       "Education        Masters  Some College  \n",
       "Race                                    \n",
       "American Indian        5            71  \n",
       "Asian                 82           171  \n",
       "Black                 79           691  \n",
       "Other                  5            44  \n",
       "White               1461          5718  "
      ]
     },
     "execution_count": 29,
     "metadata": {},
     "output_type": "execute_result"
    }
   ],
   "source": [
    "# Race vs Education\n",
    "edu_race = train_data.groupby(['Race', 'Education']).count().Age.unstack(level = 1).sort()\n",
    "edu_race"
   ]
  },
  {
   "cell_type": "code",
   "execution_count": 30,
   "metadata": {
    "collapsed": false
   },
   "outputs": [
    {
     "data": {
      "text/html": [
       "<div>\n",
       "<table border=\"1\" class=\"dataframe\">\n",
       "  <thead>\n",
       "    <tr style=\"text-align: right;\">\n",
       "      <th>Education</th>\n",
       "      <th>Associate</th>\n",
       "      <th>Bachelors</th>\n",
       "      <th>Doctorate</th>\n",
       "      <th>High School</th>\n",
       "      <th>Literate</th>\n",
       "      <th>Masters</th>\n",
       "      <th>Some College</th>\n",
       "    </tr>\n",
       "    <tr>\n",
       "      <th>Race</th>\n",
       "      <th></th>\n",
       "      <th></th>\n",
       "      <th></th>\n",
       "      <th></th>\n",
       "      <th></th>\n",
       "      <th></th>\n",
       "      <th></th>\n",
       "    </tr>\n",
       "  </thead>\n",
       "  <tbody>\n",
       "    <tr>\n",
       "      <th>American Indian</th>\n",
       "      <td>0.09</td>\n",
       "      <td>0.07</td>\n",
       "      <td>0.01</td>\n",
       "      <td>0.41</td>\n",
       "      <td>0.16</td>\n",
       "      <td>0.02</td>\n",
       "      <td>0.25</td>\n",
       "    </tr>\n",
       "    <tr>\n",
       "      <th>Asian</th>\n",
       "      <td>0.11</td>\n",
       "      <td>0.28</td>\n",
       "      <td>0.03</td>\n",
       "      <td>0.22</td>\n",
       "      <td>0.08</td>\n",
       "      <td>0.09</td>\n",
       "      <td>0.19</td>\n",
       "    </tr>\n",
       "    <tr>\n",
       "      <th>Black</th>\n",
       "      <td>0.08</td>\n",
       "      <td>0.11</td>\n",
       "      <td>0.00</td>\n",
       "      <td>0.38</td>\n",
       "      <td>0.16</td>\n",
       "      <td>0.03</td>\n",
       "      <td>0.24</td>\n",
       "    </tr>\n",
       "    <tr>\n",
       "      <th>Other</th>\n",
       "      <td>0.08</td>\n",
       "      <td>0.10</td>\n",
       "      <td>0.00</td>\n",
       "      <td>0.30</td>\n",
       "      <td>0.31</td>\n",
       "      <td>0.02</td>\n",
       "      <td>0.19</td>\n",
       "    </tr>\n",
       "    <tr>\n",
       "      <th>White</th>\n",
       "      <td>0.10</td>\n",
       "      <td>0.17</td>\n",
       "      <td>0.01</td>\n",
       "      <td>0.32</td>\n",
       "      <td>0.12</td>\n",
       "      <td>0.06</td>\n",
       "      <td>0.22</td>\n",
       "    </tr>\n",
       "  </tbody>\n",
       "</table>\n",
       "</div>"
      ],
      "text/plain": [
       "Education        Associate  Bachelors  Doctorate  High School  Literate  \\\n",
       "Race                                                                      \n",
       "American Indian       0.09       0.07       0.01         0.41      0.16   \n",
       "Asian                 0.11       0.28       0.03         0.22      0.08   \n",
       "Black                 0.08       0.11       0.00         0.38      0.16   \n",
       "Other                 0.08       0.10       0.00         0.30      0.31   \n",
       "White                 0.10       0.17       0.01         0.32      0.12   \n",
       "\n",
       "Education        Masters  Some College  \n",
       "Race                                    \n",
       "American Indian     0.02          0.25  \n",
       "Asian               0.09          0.19  \n",
       "Black               0.03          0.24  \n",
       "Other               0.02          0.19  \n",
       "White               0.06          0.22  "
      ]
     },
     "execution_count": 30,
     "metadata": {},
     "output_type": "execute_result"
    }
   ],
   "source": [
    "# Finding the percentage for each race\n",
    "edu_race = edu_race.div(edu_race.sum(axis = 1), axis = 0).round(2)\n",
    "edu_race"
   ]
  },
  {
   "cell_type": "code",
   "execution_count": 31,
   "metadata": {
    "collapsed": false
   },
   "outputs": [
    {
     "data": {
      "image/png": "[encoded data removed]",
      "text/plain": [
       "<matplotlib.figure.Figure at 0x15320d88eb8>"
      ]
     },
     "metadata": {},
     "output_type": "display_data"
    }
   ],
   "source": [
    "edList = edu_race.index\n",
    "ind = np.arange(len(edList))\n",
    "width = 0.12\n",
    "plt.bar(ind, edu_race['Literate'], width, color = 'red', align = 'center')\n",
    "plt.bar(ind + width, edu_race['High School'], width, color = 'green', align = 'center')\n",
    "plt.bar(ind + 2*width, edu_race['Associate'], width, color = 'blue', align = 'center')\n",
    "plt.bar(ind + 3*width, edu_race['Some College'], width, color = 'cyan', align = 'center')\n",
    "plt.bar(ind + 4*width, edu_race['Bachelors'], width, color = 'magenta', align = 'center')\n",
    "plt.bar(ind + 5*width, edu_race['Masters'], width, color = 'grey', align = 'center')\n",
    "plt.bar(ind + 6*width, edu_race['Doctorate'], width, color = 'black', align = 'center')\n",
    "\n",
    "plt.xlabel('Race')\n",
    "plt.ylabel('Percentage')\n",
    "plt.title('Percenage of Education level for each Race\\n')\n",
    "plt.xticks(ind + 3*width, edList, rotation = 45)\n",
    "plt.legend(('Literate', 'High School', 'Associate', 'Some College', 'Bachelors', 'Masters', 'Doctorate'), \n",
    "           loc = 'upper right', \n",
    "           bbox_to_anchor=(1.5,1)\n",
    "          )\n",
    "plt.show()"
   ]
  },
  {
   "cell_type": "code",
   "execution_count": 32,
   "metadata": {
    "collapsed": false
   },
   "outputs": [
    {
     "data": {
      "text/html": [
       "<div>\n",
       "<table border=\"1\" class=\"dataframe\">\n",
       "  <thead>\n",
       "    <tr style=\"text-align: right;\">\n",
       "      <th>Occupation</th>\n",
       "      <th>Clerical</th>\n",
       "      <th>Executive</th>\n",
       "      <th>Farming</th>\n",
       "      <th>Mechanical</th>\n",
       "      <th>Other</th>\n",
       "      <th>Professional</th>\n",
       "      <th>Protective</th>\n",
       "      <th>Sales</th>\n",
       "      <th>Transport</th>\n",
       "    </tr>\n",
       "    <tr>\n",
       "      <th>Race</th>\n",
       "      <th></th>\n",
       "      <th></th>\n",
       "      <th></th>\n",
       "      <th></th>\n",
       "      <th></th>\n",
       "      <th></th>\n",
       "      <th></th>\n",
       "      <th></th>\n",
       "      <th></th>\n",
       "    </tr>\n",
       "  </thead>\n",
       "  <tbody>\n",
       "    <tr>\n",
       "      <th>American Indian</th>\n",
       "      <td>0.19</td>\n",
       "      <td>0.10</td>\n",
       "      <td>0.03</td>\n",
       "      <td>0.22</td>\n",
       "      <td>0.12</td>\n",
       "      <td>0.13</td>\n",
       "      <td>0.03</td>\n",
       "      <td>0.09</td>\n",
       "      <td>0.09</td>\n",
       "    </tr>\n",
       "    <tr>\n",
       "      <th>Asian</th>\n",
       "      <td>0.18</td>\n",
       "      <td>0.13</td>\n",
       "      <td>0.02</td>\n",
       "      <td>0.15</td>\n",
       "      <td>0.13</td>\n",
       "      <td>0.24</td>\n",
       "      <td>0.02</td>\n",
       "      <td>0.11</td>\n",
       "      <td>0.02</td>\n",
       "    </tr>\n",
       "    <tr>\n",
       "      <th>Black</th>\n",
       "      <td>0.24</td>\n",
       "      <td>0.08</td>\n",
       "      <td>0.01</td>\n",
       "      <td>0.18</td>\n",
       "      <td>0.20</td>\n",
       "      <td>0.10</td>\n",
       "      <td>0.04</td>\n",
       "      <td>0.09</td>\n",
       "      <td>0.06</td>\n",
       "    </tr>\n",
       "    <tr>\n",
       "      <th>Other</th>\n",
       "      <td>0.16</td>\n",
       "      <td>0.05</td>\n",
       "      <td>0.05</td>\n",
       "      <td>0.28</td>\n",
       "      <td>0.16</td>\n",
       "      <td>0.13</td>\n",
       "      <td>0.02</td>\n",
       "      <td>0.10</td>\n",
       "      <td>0.06</td>\n",
       "    </tr>\n",
       "    <tr>\n",
       "      <th>White</th>\n",
       "      <td>0.17</td>\n",
       "      <td>0.14</td>\n",
       "      <td>0.04</td>\n",
       "      <td>0.20</td>\n",
       "      <td>0.10</td>\n",
       "      <td>0.17</td>\n",
       "      <td>0.02</td>\n",
       "      <td>0.12</td>\n",
       "      <td>0.05</td>\n",
       "    </tr>\n",
       "  </tbody>\n",
       "</table>\n",
       "</div>"
      ],
      "text/plain": [
       "Occupation       Clerical  Executive  Farming  Mechanical  Other  \\\n",
       "Race                                                               \n",
       "American Indian      0.19       0.10     0.03        0.22   0.12   \n",
       "Asian                0.18       0.13     0.02        0.15   0.13   \n",
       "Black                0.24       0.08     0.01        0.18   0.20   \n",
       "Other                0.16       0.05     0.05        0.28   0.16   \n",
       "White                0.17       0.14     0.04        0.20   0.10   \n",
       "\n",
       "Occupation       Professional  Protective  Sales  Transport  \n",
       "Race                                                         \n",
       "American Indian          0.13        0.03   0.09       0.09  \n",
       "Asian                    0.24        0.02   0.11       0.02  \n",
       "Black                    0.10        0.04   0.09       0.06  \n",
       "Other                    0.13        0.02   0.10       0.06  \n",
       "White                    0.17        0.02   0.12       0.05  "
      ]
     },
     "execution_count": 32,
     "metadata": {},
     "output_type": "execute_result"
    }
   ],
   "source": [
    "# Race vs Occupation\n",
    "occ_race = train_data.groupby(['Race', 'Occupation']).count().Age.unstack(level = 1).sort()\n",
    "\n",
    "# Finding the percentage for each race\n",
    "occ_race = occ_race.div(occ_race.sum(axis = 1), axis = 0).round(2)\n",
    "occ_race"
   ]
  },
  {
   "cell_type": "code",
   "execution_count": 33,
   "metadata": {
    "collapsed": false
   },
   "outputs": [
    {
     "data": {
      "image/png": "[encoded data removed]",
      "text/plain": [
       "<matplotlib.figure.Figure at 0x15320fdc668>"
      ]
     },
     "metadata": {},
     "output_type": "display_data"
    }
   ],
   "source": [
    "occList = occ_race.index\n",
    "ind = np.arange(len(edList))\n",
    "width = 0.08\n",
    "plt.bar(ind, occ_race['Clerical'], width, color = 'red', align = 'center')\n",
    "plt.bar(ind + width, occ_race['Executive'], width, color = 'green', align = 'center')\n",
    "plt.bar(ind + 2*width, occ_race['Farming'], width, color = 'blue', align = 'center')\n",
    "plt.bar(ind + 3*width, occ_race['Mechanical'], width, color = 'cyan', align = 'center')\n",
    "plt.bar(ind + 4*width, occ_race['Professional'], width, color = 'magenta', align = 'center')\n",
    "plt.bar(ind + 5*width, occ_race['Protective'], width, color = 'grey', align = 'center')\n",
    "plt.bar(ind + 6*width, occ_race['Sales'], width, color = 'black', align = 'center')\n",
    "plt.bar(ind + 7*width, occ_race['Transport'], width, color = 'yellow', align = 'center')\n",
    "plt.bar(ind + 8*width, occ_race['Other'], width, color = 'pink', align = 'center')\n",
    "\n",
    "plt.xlabel('Race')\n",
    "plt.ylabel('Percentage')\n",
    "plt.title('Percenage of Occupation for each Race\\n')\n",
    "plt.xticks(ind + 4*width, edList, rotation = 45)\n",
    "plt.legend(('Clerical', 'Executive', 'Farming', 'Mechanical', 'Professional', 'Protective', 'Sales', 'Transport', 'Other'), \n",
    "           loc = 'upper right', \n",
    "           bbox_to_anchor=(1.5,1)\n",
    "          )\n",
    "plt.show()"
   ]
  },
  {
   "cell_type": "code",
   "execution_count": 34,
   "metadata": {
    "collapsed": false
   },
   "outputs": [
    {
     "data": {
      "text/plain": [
       "array(['United-States', 'Poland', 'Mexico', 'Greece', 'Cuba', 'India',\n",
       "       'Philippines', 'Puerto-Rico', 'Peru', 'Jamaica', 'Honduras',\n",
       "       'England', 'Canada', 'Germany', 'Iran', 'Columbia', 'Cambodia',\n",
       "       'Thailand', 'Ecuador', 'Laos', 'Taiwan', 'Haiti', 'Portugal',\n",
       "       'Dominican-Republic', 'El-Salvador', 'France', 'Guatemala', 'Italy',\n",
       "       'China', 'South', 'Japan', 'Yugoslavia',\n",
       "       'Outlying-US(Guam-USVI-etc)', 'Scotland', 'Trinadad&Tobago',\n",
       "       'Nicaragua', 'Vietnam', 'Hong', 'Ireland', 'Hungary'], dtype=object)"
      ]
     },
     "execution_count": 34,
     "metadata": {},
     "output_type": "execute_result"
    }
   ],
   "source": [
    "train_data.Country.unique()"
   ]
  },
  {
   "cell_type": "code",
   "execution_count": 35,
   "metadata": {
    "collapsed": false
   },
   "outputs": [
    {
     "data": {
      "text/plain": [
       "array(['United States', 'Poland', 'Mexico', 'Greece', 'Cuba', 'India',\n",
       "       'Philippines', 'Peru', 'Jamaica', 'Honduras', 'England', 'Canada',\n",
       "       'Germany', 'Iran', 'Columbia', 'Cambodia', 'Thailand', 'Ecuador',\n",
       "       'Laos', 'Taiwan', 'Haiti', 'Portugal', 'Dominican-Republic',\n",
       "       'El-Salvador', 'France', 'Guatemala', 'Italy', 'China', 'South',\n",
       "       'Japan', 'Yugoslavia', 'Scotland', 'Trinadad & Tobago', 'Nicaragua',\n",
       "       'Vietnam', 'Hong Kong', 'Ireland', 'Hungary'], dtype=object)"
      ]
     },
     "execution_count": 35,
     "metadata": {},
     "output_type": "execute_result"
    }
   ],
   "source": [
    "train_data.loc[train_data['Country'] == 'United-States', 'Country'] = 'United States'\n",
    "train_data.loc[train_data['Country'] == 'Puerto-Rico', 'Country'] = 'United States'\n",
    "train_data.loc[train_data['Country'] == 'Outlying-US(Guam-USVI-etc)', 'Country'] = 'United States'\n",
    "train_data.loc[train_data['Country'] == 'Trinadad&Tobago', 'Country'] = 'Trinadad & Tobago'\n",
    "train_data.loc[train_data['Country'] == 'Hong', 'Country'] = 'Hong Kong'\n",
    "train_data.loc[train_data['Country'] == 'Holand-Netherlands', 'Country'] = 'Netherlands'\n",
    "\n",
    "train_data.Country.unique()"
   ]
  },
  {
   "cell_type": "code",
   "execution_count": 36,
   "metadata": {
    "collapsed": false
   },
   "outputs": [
    {
     "data": {
      "text/html": [
       "<div>\n",
       "<table border=\"1\" class=\"dataframe\">\n",
       "  <thead>\n",
       "    <tr style=\"text-align: right;\">\n",
       "      <th>Education</th>\n",
       "      <th>Associate</th>\n",
       "      <th>Bachelors</th>\n",
       "      <th>Doctorate</th>\n",
       "      <th>High School</th>\n",
       "      <th>Literate</th>\n",
       "      <th>Masters</th>\n",
       "      <th>Some College</th>\n",
       "    </tr>\n",
       "    <tr>\n",
       "      <th>Country</th>\n",
       "      <th></th>\n",
       "      <th></th>\n",
       "      <th></th>\n",
       "      <th></th>\n",
       "      <th></th>\n",
       "      <th></th>\n",
       "      <th></th>\n",
       "    </tr>\n",
       "  </thead>\n",
       "  <tbody>\n",
       "    <tr>\n",
       "      <th>Cambodia</th>\n",
       "      <td>NaN</td>\n",
       "      <td>3.0</td>\n",
       "      <td>NaN</td>\n",
       "      <td>7.0</td>\n",
       "      <td>4.0</td>\n",
       "      <td>NaN</td>\n",
       "      <td>4.0</td>\n",
       "    </tr>\n",
       "    <tr>\n",
       "      <th>Canada</th>\n",
       "      <td>9.0</td>\n",
       "      <td>22.0</td>\n",
       "      <td>7.0</td>\n",
       "      <td>28.0</td>\n",
       "      <td>12.0</td>\n",
       "      <td>7.0</td>\n",
       "      <td>22.0</td>\n",
       "    </tr>\n",
       "    <tr>\n",
       "      <th>China</th>\n",
       "      <td>1.0</td>\n",
       "      <td>19.0</td>\n",
       "      <td>9.0</td>\n",
       "      <td>16.0</td>\n",
       "      <td>10.0</td>\n",
       "      <td>11.0</td>\n",
       "      <td>2.0</td>\n",
       "    </tr>\n",
       "    <tr>\n",
       "      <th>Columbia</th>\n",
       "      <td>11.0</td>\n",
       "      <td>4.0</td>\n",
       "      <td>1.0</td>\n",
       "      <td>18.0</td>\n",
       "      <td>12.0</td>\n",
       "      <td>1.0</td>\n",
       "      <td>9.0</td>\n",
       "    </tr>\n",
       "    <tr>\n",
       "      <th>Cuba</th>\n",
       "      <td>8.0</td>\n",
       "      <td>17.0</td>\n",
       "      <td>2.0</td>\n",
       "      <td>23.0</td>\n",
       "      <td>21.0</td>\n",
       "      <td>5.0</td>\n",
       "      <td>17.0</td>\n",
       "    </tr>\n",
       "  </tbody>\n",
       "</table>\n",
       "</div>"
      ],
      "text/plain": [
       "Education  Associate  Bachelors  Doctorate  High School  Literate  Masters  \\\n",
       "Country                                                                      \n",
       "Cambodia         NaN        3.0        NaN          7.0       4.0      NaN   \n",
       "Canada           9.0       22.0        7.0         28.0      12.0      7.0   \n",
       "China            1.0       19.0        9.0         16.0      10.0     11.0   \n",
       "Columbia        11.0        4.0        1.0         18.0      12.0      1.0   \n",
       "Cuba             8.0       17.0        2.0         23.0      21.0      5.0   \n",
       "\n",
       "Education  Some College  \n",
       "Country                  \n",
       "Cambodia            4.0  \n",
       "Canada             22.0  \n",
       "China               2.0  \n",
       "Columbia            9.0  \n",
       "Cuba               17.0  "
      ]
     },
     "execution_count": 36,
     "metadata": {},
     "output_type": "execute_result"
    }
   ],
   "source": [
    "# Education in each country\n",
    "edu_country = train_data.groupby(['Country', 'Education']).count().Age.unstack(level = 1).sort()\n",
    "edu_country.head()"
   ]
  },
  {
   "cell_type": "code",
   "execution_count": 37,
   "metadata": {
    "collapsed": false
   },
   "outputs": [
    {
     "data": {
      "text/html": [
       "<div>\n",
       "<table border=\"1\" class=\"dataframe\">\n",
       "  <thead>\n",
       "    <tr style=\"text-align: right;\">\n",
       "      <th>Education</th>\n",
       "      <th>Associate</th>\n",
       "      <th>Bachelors</th>\n",
       "      <th>Doctorate</th>\n",
       "      <th>High School</th>\n",
       "      <th>Literate</th>\n",
       "      <th>Masters</th>\n",
       "      <th>Some College</th>\n",
       "    </tr>\n",
       "    <tr>\n",
       "      <th>Country</th>\n",
       "      <th></th>\n",
       "      <th></th>\n",
       "      <th></th>\n",
       "      <th></th>\n",
       "      <th></th>\n",
       "      <th></th>\n",
       "      <th></th>\n",
       "    </tr>\n",
       "  </thead>\n",
       "  <tbody>\n",
       "    <tr>\n",
       "      <th>Cambodia</th>\n",
       "      <td>0.0</td>\n",
       "      <td>3.0</td>\n",
       "      <td>0.0</td>\n",
       "      <td>7.0</td>\n",
       "      <td>4.0</td>\n",
       "      <td>0.0</td>\n",
       "      <td>4.0</td>\n",
       "    </tr>\n",
       "    <tr>\n",
       "      <th>Canada</th>\n",
       "      <td>9.0</td>\n",
       "      <td>22.0</td>\n",
       "      <td>7.0</td>\n",
       "      <td>28.0</td>\n",
       "      <td>12.0</td>\n",
       "      <td>7.0</td>\n",
       "      <td>22.0</td>\n",
       "    </tr>\n",
       "    <tr>\n",
       "      <th>China</th>\n",
       "      <td>1.0</td>\n",
       "      <td>19.0</td>\n",
       "      <td>9.0</td>\n",
       "      <td>16.0</td>\n",
       "      <td>10.0</td>\n",
       "      <td>11.0</td>\n",
       "      <td>2.0</td>\n",
       "    </tr>\n",
       "    <tr>\n",
       "      <th>Columbia</th>\n",
       "      <td>11.0</td>\n",
       "      <td>4.0</td>\n",
       "      <td>1.0</td>\n",
       "      <td>18.0</td>\n",
       "      <td>12.0</td>\n",
       "      <td>1.0</td>\n",
       "      <td>9.0</td>\n",
       "    </tr>\n",
       "    <tr>\n",
       "      <th>Cuba</th>\n",
       "      <td>8.0</td>\n",
       "      <td>17.0</td>\n",
       "      <td>2.0</td>\n",
       "      <td>23.0</td>\n",
       "      <td>21.0</td>\n",
       "      <td>5.0</td>\n",
       "      <td>17.0</td>\n",
       "    </tr>\n",
       "  </tbody>\n",
       "</table>\n",
       "</div>"
      ],
      "text/plain": [
       "Education  Associate  Bachelors  Doctorate  High School  Literate  Masters  \\\n",
       "Country                                                                      \n",
       "Cambodia         0.0        3.0        0.0          7.0       4.0      0.0   \n",
       "Canada           9.0       22.0        7.0         28.0      12.0      7.0   \n",
       "China            1.0       19.0        9.0         16.0      10.0     11.0   \n",
       "Columbia        11.0        4.0        1.0         18.0      12.0      1.0   \n",
       "Cuba             8.0       17.0        2.0         23.0      21.0      5.0   \n",
       "\n",
       "Education  Some College  \n",
       "Country                  \n",
       "Cambodia            4.0  \n",
       "Canada             22.0  \n",
       "China               2.0  \n",
       "Columbia            9.0  \n",
       "Cuba               17.0  "
      ]
     },
     "execution_count": 37,
     "metadata": {},
     "output_type": "execute_result"
    }
   ],
   "source": [
    "# Since we re going to do a count, let's replace NA by 0\n",
    "edu_country.fillna(0, inplace = True)\n",
    "edu_country.head()"
   ]
  },
  {
   "cell_type": "code",
   "execution_count": 38,
   "metadata": {
    "collapsed": false
   },
   "outputs": [
    {
     "data": {
      "text/html": [
       "<div>\n",
       "<table border=\"1\" class=\"dataframe\">\n",
       "  <thead>\n",
       "    <tr style=\"text-align: right;\">\n",
       "      <th>Education</th>\n",
       "      <th>No Degree</th>\n",
       "      <th>With Degree</th>\n",
       "    </tr>\n",
       "    <tr>\n",
       "      <th>Country</th>\n",
       "      <th></th>\n",
       "      <th></th>\n",
       "    </tr>\n",
       "  </thead>\n",
       "  <tbody>\n",
       "    <tr>\n",
       "      <th>Cambodia</th>\n",
       "      <td>15.0</td>\n",
       "      <td>3.0</td>\n",
       "    </tr>\n",
       "    <tr>\n",
       "      <th>Canada</th>\n",
       "      <td>71.0</td>\n",
       "      <td>36.0</td>\n",
       "    </tr>\n",
       "    <tr>\n",
       "      <th>China</th>\n",
       "      <td>29.0</td>\n",
       "      <td>39.0</td>\n",
       "    </tr>\n",
       "    <tr>\n",
       "      <th>Columbia</th>\n",
       "      <td>50.0</td>\n",
       "      <td>6.0</td>\n",
       "    </tr>\n",
       "    <tr>\n",
       "      <th>Cuba</th>\n",
       "      <td>69.0</td>\n",
       "      <td>24.0</td>\n",
       "    </tr>\n",
       "  </tbody>\n",
       "</table>\n",
       "</div>"
      ],
      "text/plain": [
       "Education  No Degree  With Degree\n",
       "Country                          \n",
       "Cambodia        15.0          3.0\n",
       "Canada          71.0         36.0\n",
       "China           29.0         39.0\n",
       "Columbia        50.0          6.0\n",
       "Cuba            69.0         24.0"
      ]
     },
     "execution_count": 38,
     "metadata": {},
     "output_type": "execute_result"
    }
   ],
   "source": [
    "# Lets see what percentage of people have degree in each country\n",
    "edu_country['No Degree'] = (edu_country['Associate'] + edu_country['High School'] + \n",
    "                              edu_country['Literate'] + edu_country['Some College']\n",
    "                             )\n",
    "edu_country['With Degree'] = edu_country['Bachelors'] + edu_country['Masters'] + edu_country['Doctorate']\n",
    "edu_country = edu_country[['No Degree', 'With Degree']] # selecting only yhe required columns\n",
    "edu_country.head()"
   ]
  },
  {
   "cell_type": "code",
   "execution_count": 39,
   "metadata": {
    "collapsed": false
   },
   "outputs": [
    {
     "data": {
      "text/html": [
       "<div>\n",
       "<table border=\"1\" class=\"dataframe\">\n",
       "  <thead>\n",
       "    <tr style=\"text-align: right;\">\n",
       "      <th>Education</th>\n",
       "      <th>No Degree</th>\n",
       "      <th>With Degree</th>\n",
       "    </tr>\n",
       "    <tr>\n",
       "      <th>Country</th>\n",
       "      <th></th>\n",
       "      <th></th>\n",
       "    </tr>\n",
       "  </thead>\n",
       "  <tbody>\n",
       "    <tr>\n",
       "      <th>Cambodia</th>\n",
       "      <td>0.83</td>\n",
       "      <td>0.17</td>\n",
       "    </tr>\n",
       "    <tr>\n",
       "      <th>Canada</th>\n",
       "      <td>0.66</td>\n",
       "      <td>0.34</td>\n",
       "    </tr>\n",
       "    <tr>\n",
       "      <th>China</th>\n",
       "      <td>0.43</td>\n",
       "      <td>0.57</td>\n",
       "    </tr>\n",
       "    <tr>\n",
       "      <th>Columbia</th>\n",
       "      <td>0.89</td>\n",
       "      <td>0.11</td>\n",
       "    </tr>\n",
       "    <tr>\n",
       "      <th>Cuba</th>\n",
       "      <td>0.74</td>\n",
       "      <td>0.26</td>\n",
       "    </tr>\n",
       "  </tbody>\n",
       "</table>\n",
       "</div>"
      ],
      "text/plain": [
       "Education  No Degree  With Degree\n",
       "Country                          \n",
       "Cambodia        0.83         0.17\n",
       "Canada          0.66         0.34\n",
       "China           0.43         0.57\n",
       "Columbia        0.89         0.11\n",
       "Cuba            0.74         0.26"
      ]
     },
     "execution_count": 39,
     "metadata": {},
     "output_type": "execute_result"
    }
   ],
   "source": [
    "# let's convert the number into percentage\n",
    "edu_country = edu_country.div(edu_country.sum(axis = 1), axis = 0).round(2)\n",
    "edu_country.head()"
   ]
  },
  {
   "cell_type": "code",
   "execution_count": 40,
   "metadata": {
    "collapsed": false
   },
   "outputs": [
    {
     "data": {
      "image/png": "[encoded data removed]",
      "text/plain": [
       "<matplotlib.figure.Figure at 0x153201251d0>"
      ]
     },
     "metadata": {},
     "output_type": "display_data"
    }
   ],
   "source": [
    "countryList = edu_country.index\n",
    "ind = np.arange(len(countryList))\n",
    "width = 0.8\n",
    "plt.figure(figsize=(10,8))\n",
    "plt.subplots_adjust(hspace = 0.5)\n",
    "plt.subplot(2, 1, 1)\n",
    "plt.bar(ind, edu_country['No Degree'], width, color = 'red', align = 'center')\n",
    "plt.ylabel('Percentage')\n",
    "plt.xticks(ind, countryList, rotation = 90, fontsize=8)\n",
    "\n",
    "plt.subplot(2, 1, 2)\n",
    "plt.bar(ind, edu_country['With Degree'], width, color = 'blue', align = 'center')\n",
    "plt.ylabel('Percentage')\n",
    "plt.xticks(ind, countryList, rotation = 90, fontsize=8)\n",
    "plt.show()"
   ]
  },
  {
   "cell_type": "code",
   "execution_count": 41,
   "metadata": {
    "collapsed": false
   },
   "outputs": [
    {
     "data": {
      "text/plain": [
       "array(['<=50K', '>50K'], dtype=object)"
      ]
     },
     "execution_count": 41,
     "metadata": {},
     "output_type": "execute_result"
    }
   ],
   "source": [
    "train_data.Salary.unique()"
   ]
  },
  {
   "cell_type": "code",
   "execution_count": 42,
   "metadata": {
    "collapsed": false
   },
   "outputs": [
    {
     "data": {
      "text/html": [
       "<div>\n",
       "<table border=\"1\" class=\"dataframe\">\n",
       "  <thead>\n",
       "    <tr style=\"text-align: right;\">\n",
       "      <th></th>\n",
       "      <th>Age</th>\n",
       "      <th>Workclass</th>\n",
       "      <th>Fnlgwt</th>\n",
       "      <th>Education</th>\n",
       "      <th>Marital_Status</th>\n",
       "      <th>Occupation</th>\n",
       "      <th>Relationship</th>\n",
       "      <th>Race</th>\n",
       "      <th>Sex</th>\n",
       "      <th>Capital_Gain</th>\n",
       "      <th>Capital_Loss</th>\n",
       "      <th>Hours</th>\n",
       "      <th>Country</th>\n",
       "      <th>Salary</th>\n",
       "    </tr>\n",
       "  </thead>\n",
       "  <tbody>\n",
       "    <tr>\n",
       "      <th>0</th>\n",
       "      <td>39</td>\n",
       "      <td>Gov</td>\n",
       "      <td>77516</td>\n",
       "      <td>Bachelors</td>\n",
       "      <td>Single</td>\n",
       "      <td>Clerical</td>\n",
       "      <td>Not in Family</td>\n",
       "      <td>White</td>\n",
       "      <td>Male</td>\n",
       "      <td>2174</td>\n",
       "      <td>0</td>\n",
       "      <td>40</td>\n",
       "      <td>United States</td>\n",
       "      <td>1</td>\n",
       "    </tr>\n",
       "    <tr>\n",
       "      <th>1</th>\n",
       "      <td>31</td>\n",
       "      <td>Private</td>\n",
       "      <td>408208</td>\n",
       "      <td>High School</td>\n",
       "      <td>Single</td>\n",
       "      <td>Mechanical</td>\n",
       "      <td>Not in Family</td>\n",
       "      <td>Black</td>\n",
       "      <td>Male</td>\n",
       "      <td>0</td>\n",
       "      <td>0</td>\n",
       "      <td>30</td>\n",
       "      <td>United States</td>\n",
       "      <td>1</td>\n",
       "    </tr>\n",
       "    <tr>\n",
       "      <th>2</th>\n",
       "      <td>54</td>\n",
       "      <td>Private</td>\n",
       "      <td>105638</td>\n",
       "      <td>Literate</td>\n",
       "      <td>Married</td>\n",
       "      <td>Mechanical</td>\n",
       "      <td>Husband</td>\n",
       "      <td>White</td>\n",
       "      <td>Male</td>\n",
       "      <td>0</td>\n",
       "      <td>0</td>\n",
       "      <td>40</td>\n",
       "      <td>United States</td>\n",
       "      <td>1</td>\n",
       "    </tr>\n",
       "    <tr>\n",
       "      <th>3</th>\n",
       "      <td>36</td>\n",
       "      <td>Private</td>\n",
       "      <td>81259</td>\n",
       "      <td>Associate</td>\n",
       "      <td>Divorced</td>\n",
       "      <td>Professional</td>\n",
       "      <td>Other</td>\n",
       "      <td>White</td>\n",
       "      <td>Female</td>\n",
       "      <td>0</td>\n",
       "      <td>0</td>\n",
       "      <td>36</td>\n",
       "      <td>United States</td>\n",
       "      <td>1</td>\n",
       "    </tr>\n",
       "    <tr>\n",
       "      <th>4</th>\n",
       "      <td>37</td>\n",
       "      <td>Private</td>\n",
       "      <td>201141</td>\n",
       "      <td>High School</td>\n",
       "      <td>Divorced</td>\n",
       "      <td>Mechanical</td>\n",
       "      <td>Other</td>\n",
       "      <td>White</td>\n",
       "      <td>Female</td>\n",
       "      <td>0</td>\n",
       "      <td>0</td>\n",
       "      <td>40</td>\n",
       "      <td>United States</td>\n",
       "      <td>1</td>\n",
       "    </tr>\n",
       "  </tbody>\n",
       "</table>\n",
       "</div>"
      ],
      "text/plain": [
       "   Age Workclass  Fnlgwt    Education Marital_Status    Occupation  \\\n",
       "0   39       Gov   77516    Bachelors         Single      Clerical   \n",
       "1   31   Private  408208  High School         Single    Mechanical   \n",
       "2   54   Private  105638     Literate        Married    Mechanical   \n",
       "3   36   Private   81259    Associate       Divorced  Professional   \n",
       "4   37   Private  201141  High School       Divorced    Mechanical   \n",
       "\n",
       "    Relationship   Race     Sex  Capital_Gain  Capital_Loss  Hours  \\\n",
       "0  Not in Family  White    Male          2174             0     40   \n",
       "1  Not in Family  Black    Male             0             0     30   \n",
       "2        Husband  White    Male             0             0     40   \n",
       "3          Other  White  Female             0             0     36   \n",
       "4          Other  White  Female             0             0     40   \n",
       "\n",
       "         Country Salary  \n",
       "0  United States      1  \n",
       "1  United States      1  \n",
       "2  United States      1  \n",
       "3  United States      1  \n",
       "4  United States      1  "
      ]
     },
     "execution_count": 42,
     "metadata": {},
     "output_type": "execute_result"
    }
   ],
   "source": [
    "# Converting the output column('Salary') into a binary class\n",
    "train_data.loc[train_data['Salary'] == '<=50K', 'Salary'] = 1\n",
    "train_data.loc[train_data['Salary'] == '>50K', 'Salary'] = 0\n",
    "\n",
    "train_data.head()"
   ]
  },
  {
   "cell_type": "code",
   "execution_count": 43,
   "metadata": {
    "collapsed": false
   },
   "outputs": [
    {
     "data": {
      "image/png": "[encoded data removed]",
      "text/plain": [
       "<matplotlib.figure.Figure at 0x15322bbda20>"
      ]
     },
     "metadata": {},
     "output_type": "display_data"
    }
   ],
   "source": [
    "import seaborn as sb\n",
    "sb.set(style = 'whitegrid', palette = 'muted')\n",
    "\n",
    "sb.stripplot(data = train_data, x = 'Age', y = 'Occupation', jitter = True, hue = 'Sex')\n",
    "plt.legend(bbox_to_anchor=(1.25,1))\n",
    "plt.show()"
   ]
  },
  {
   "cell_type": "markdown",
   "metadata": {},
   "source": [
    "*** No special pattern between job and age***"
   ]
  },
  {
   "cell_type": "markdown",
   "metadata": {
    "collapsed": true
   },
   "source": [
    "# 2. Data Preprocessing"
   ]
  },
  {
   "cell_type": "markdown",
   "metadata": {
    "collapsed": true
   },
   "source": [
    "### 2.1 Converting Data into Spark Data Frame\n",
    "*** We can choose any API for dara preprocessing. I am choosing Spark as its very useful to handle large set of data. The primary reason I am converting the pandas dataframe to Spark dataframe at this point in the code is due to the fact that we are going to need to convert all the categorical values into the numerical values before we feed our data into machine learning models.Spark has very easy steps for that purpose.***"
   ]
  },
  {
   "cell_type": "code",
   "execution_count": 44,
   "metadata": {
    "collapsed": false
   },
   "outputs": [],
   "source": [
    "import findspark\n",
    "findspark.init('C:/Users/ibhat/Spark')\n",
    "\n",
    "from pyspark.sql import SparkSession\n",
    "spark = SparkSession.builder.getOrCreate()"
   ]
  },
  {
   "cell_type": "code",
   "execution_count": 45,
   "metadata": {
    "collapsed": false
   },
   "outputs": [
    {
     "name": "stdout",
     "output_type": "stream",
     "text": [
      "root\n",
      " |-- Age: long (nullable = true)\n",
      " |-- Workclass: string (nullable = true)\n",
      " |-- Fnlgwt: long (nullable = true)\n",
      " |-- Education: string (nullable = true)\n",
      " |-- Marital_Status: string (nullable = true)\n",
      " |-- Occupation: string (nullable = true)\n",
      " |-- Relationship: string (nullable = true)\n",
      " |-- Race: string (nullable = true)\n",
      " |-- Sex: string (nullable = true)\n",
      " |-- Capital_Gain: long (nullable = true)\n",
      " |-- Capital_Loss: long (nullable = true)\n",
      " |-- Hours: long (nullable = true)\n",
      " |-- Country: string (nullable = true)\n",
      " |-- Salary: long (nullable = true)\n",
      "\n"
     ]
    }
   ],
   "source": [
    "# converting pandas dataframe to spark dataframe\n",
    "df = spark.createDataFrame(train_data)\n",
    "df.printSchema()"
   ]
  },
  {
   "cell_type": "markdown",
   "metadata": {},
   "source": [
    "### 2.2 Converting Categorical Values into Numerical Values"
   ]
  },
  {
   "cell_type": "code",
   "execution_count": 46,
   "metadata": {
    "collapsed": false
   },
   "outputs": [],
   "source": [
    "from pyspark.ml.feature import VectorAssembler, StringIndexer, OneHotEncoder\n",
    "\n",
    "# Converting Categorical Values into Numerical Values\n",
    "WorkClassIndexer = StringIndexer(inputCol = 'Workclass', outputCol = 'WorkClassIndex')\n",
    "EducationIndexer = StringIndexer(inputCol = 'Education', outputCol = 'EducationIndex')\n",
    "MaritalIndexer = StringIndexer(inputCol = 'Marital_Status', outputCol = 'MaritalIndex')\n",
    "OccupationIndexer = StringIndexer(inputCol = 'Occupation', outputCol = 'OccupationIndex')\n",
    "RelationshipIndexer = StringIndexer(inputCol = 'Relationship', outputCol = 'RelationshipIndex')\n",
    "RaceIndexer = StringIndexer(inputCol = 'Race', outputCol = 'RaceIndex')\n",
    "SexIndexer = StringIndexer(inputCol = 'Sex', outputCol = 'SexIndex')\n",
    "CountryIndexer = StringIndexer(inputCol = 'Country', outputCol = 'CountryIndex')\n",
    "\n",
    "# Applying OneHotEncoder to avoid dummy variable trap\n",
    "WorkClassEncoder = OneHotEncoder(inputCol = 'WorkClassIndex', outputCol = 'WorkClassVec')\n",
    "EducationEncoder = OneHotEncoder(inputCol = 'EducationIndex', outputCol = 'EducationVec')\n",
    "MaritalEncoder = OneHotEncoder(inputCol = 'MaritalIndex', outputCol = 'MaritalVec')\n",
    "OccupationsEncoder = OneHotEncoder(inputCol = 'OccupationIndex', outputCol = 'OccupationVec')\n",
    "RelationshipEncoder = OneHotEncoder(inputCol = 'RelationshipIndex', outputCol = 'RelationshipVec')\n",
    "RaceEncoder = OneHotEncoder(inputCol = 'RaceIndex', outputCol = 'RaceVec')\n",
    "# no need to apply OneHotEncoder for 'Sex' feature as this is just a set of binary values after StringIndexer\n",
    "# SexEncoder = OneHotEncoder(inputCol = 'SexIndex', outputCol = 'SexVec') \n",
    "CountryEncoder = OneHotEncoder(inputCol = 'CountryIndex', outputCol = 'CountryVec')"
   ]
  },
  {
   "cell_type": "code",
   "execution_count": 47,
   "metadata": {
    "collapsed": false
   },
   "outputs": [
    {
     "data": {
      "text/plain": [
       "['Age',\n",
       " 'Workclass',\n",
       " 'Fnlgwt',\n",
       " 'Education',\n",
       " 'Marital_Status',\n",
       " 'Occupation',\n",
       " 'Relationship',\n",
       " 'Race',\n",
       " 'Sex',\n",
       " 'Capital_Gain',\n",
       " 'Capital_Loss',\n",
       " 'Hours',\n",
       " 'Country',\n",
       " 'Salary']"
      ]
     },
     "execution_count": 47,
     "metadata": {},
     "output_type": "execute_result"
    }
   ],
   "source": [
    "df.columns"
   ]
  },
  {
   "cell_type": "markdown",
   "metadata": {},
   "source": [
    "*** In Spark MLlib, the model accepts data only in a form of 'features' being an array of all features and label being the dependent variable or simply one of the class in classification problems.***"
   ]
  },
  {
   "cell_type": "code",
   "execution_count": 48,
   "metadata": {
    "collapsed": true
   },
   "outputs": [],
   "source": [
    "# Assemble everything together to convert data into (\"label\",\"features\") format\n",
    "assembler = VectorAssembler(inputCols = ['Age', 'WorkClassVec', 'Fnlgwt', 'EducationVec', 'MaritalVec', \n",
    "                                         'OccupationVec', 'RelationshipVec', 'RaceVec', 'SexIndex', 'Capital_Gain',\n",
    "                                         'Capital_Loss', 'Hours', 'CountryVec'],\n",
    "                           outputCol = 'features'\n",
    "                           )"
   ]
  },
  {
   "cell_type": "markdown",
   "metadata": {},
   "source": [
    "### 2.3 Feature Scaling"
   ]
  },
  {
   "cell_type": "code",
   "execution_count": 49,
   "metadata": {
    "collapsed": true
   },
   "outputs": [],
   "source": [
    "from pyspark.ml.feature import StandardScaler\n",
    "scaler = StandardScaler(inputCol = 'features', outputCol = 'scaledFeatures', withStd = True, withMean = False)"
   ]
  },
  {
   "cell_type": "markdown",
   "metadata": {},
   "source": [
    "### 2.4 Set up the Pipeline"
   ]
  },
  {
   "cell_type": "code",
   "execution_count": 50,
   "metadata": {
    "collapsed": false
   },
   "outputs": [],
   "source": [
    "from pyspark.ml import Pipeline\n",
    "\n",
    "pipeline = Pipeline(stages=[WorkClassIndexer, EducationIndexer, MaritalIndexer, OccupationIndexer, RelationshipIndexer, \n",
    "                            RaceIndexer, SexIndexer, CountryIndexer, WorkClassEncoder, EducationEncoder, MaritalEncoder,\n",
    "                            OccupationsEncoder, RelationshipEncoder, RaceEncoder, CountryEncoder, assembler, scaler])\n",
    "\n",
    "train_set = pipeline.fit(df).transform(df)"
   ]
  },
  {
   "cell_type": "code",
   "execution_count": 51,
   "metadata": {
    "collapsed": false
   },
   "outputs": [
    {
     "name": "stdout",
     "output_type": "stream",
     "text": [
      "+--------------------+-----+\n",
      "|            features|label|\n",
      "+--------------------+-----+\n",
      "|(70,[0,2,4,7,12,1...|    1|\n",
      "|(70,[0,1,4,5,12,1...|    1|\n",
      "|(70,[0,1,4,8,11,1...|    1|\n",
      "|(70,[0,1,4,9,13,1...|    1|\n",
      "|(70,[0,1,4,5,13,1...|    1|\n",
      "|(70,[0,1,4,5,12,1...|    1|\n",
      "|(70,[0,2,4,9,11,2...|    0|\n",
      "|(70,[0,1,4,6,11,2...|    0|\n",
      "|(70,[0,1,4,5,12,1...|    1|\n",
      "|(70,[0,1,4,8,13,1...|    1|\n",
      "|(70,[0,1,4,6,12,1...|    1|\n",
      "|(70,[0,1,4,5,11,1...|    1|\n",
      "|(70,[0,1,4,5,12,1...|    1|\n",
      "|(70,[0,1,4,5,11,1...|    0|\n",
      "|(70,[0,1,4,6,12,1...|    1|\n",
      "|(70,[0,1,4,5,11,1...|    1|\n",
      "|(70,[0,1,4,6,11,1...|    1|\n",
      "|(70,[0,1,4,7,11,1...|    0|\n",
      "|(70,[0,1,4,6,12,1...|    1|\n",
      "|(70,[0,1,4,5,13,1...|    1|\n",
      "+--------------------+-----+\n",
      "only showing top 20 rows\n",
      "\n"
     ]
    }
   ],
   "source": [
    "# Selecting only the required columns and renaming the final columns as 'features' and 'label'\n",
    "from pyspark.sql.functions import *\n",
    "train_set = train_set.select(col('scaledFeatures').alias('features'), col('Salary').alias('label'))\n",
    "train_set.show()"
   ]
  },
  {
   "cell_type": "markdown",
   "metadata": {},
   "source": [
    "# 3. Test Data Preprocessing"
   ]
  },
  {
   "cell_type": "markdown",
   "metadata": {},
   "source": [
    "### 3.1 Data Cleansing"
   ]
  },
  {
   "cell_type": "code",
   "execution_count": 52,
   "metadata": {
    "collapsed": true
   },
   "outputs": [],
   "source": [
    "# Reading the test data\n",
    "test_data = pd.read_csv('test_data.txt', header = None )\n",
    "\n",
    "# Assigning the column name\n",
    "colName = ('Age', 'Workclass', 'Fnlgwt', 'Education', 'Education_Num', 'Marital_Status', 'Occupation', \n",
    "           'Relationship', 'Race', 'Sex', 'Capital_Gain', 'Capital_Loss', 'Hours', 'Country', 'Salary')\n",
    "test_data.columns = colName"
   ]
  },
  {
   "cell_type": "code",
   "execution_count": 53,
   "metadata": {
    "collapsed": true
   },
   "outputs": [],
   "source": [
    "# Dropping the null values\n",
    "test_data.dropna(axis = 0, how = 'any', inplace = True)"
   ]
  },
  {
   "cell_type": "code",
   "execution_count": 54,
   "metadata": {
    "collapsed": false
   },
   "outputs": [],
   "source": [
    "# Data Cleaning for each of columns with categorical values\n",
    "# I am following the same steps as I did for training data in previous steps\n",
    "test_data.loc[test_data['Workclass'].str.endswith('-gov'), 'Workclass'] = 'Gov'\n",
    "test_data.loc[test_data['Workclass'].str.startswith('Self'), 'Workclass'] = 'Self Emp'\n",
    "test_data.loc[test_data['Workclass'].str.startswith('Without'), 'Workclass'] = 'Volunteer'\n",
    "\n",
    "test_data.loc[test_data['Education'].str.endswith('th'), 'Education'] = 'Literate'\n",
    "test_data.loc[test_data['Education'].str.startswith('Preschool'), 'Education'] = 'Literate'\n",
    "test_data.loc[test_data['Education'].str.startswith('HS-grad'), 'Education'] = 'High School'\n",
    "test_data.loc[test_data['Education'].str.startswith('Assoc'), 'Education'] = 'Associate'\n",
    "test_data.loc[test_data['Education'].str.startswith('Prof-school'), 'Education'] = 'Associate'\n",
    "test_data.loc[test_data['Education'].str.startswith('Some-college'), 'Education'] = 'Some College'\n",
    "\n",
    "test_data.drop('Education_Num', axis=1, inplace=True)\n",
    "\n",
    "test_data.loc[test_data['Marital_Status'].str.startswith('Married'), 'Marital_Status'] = 'Married'\n",
    "test_data.loc[test_data['Marital_Status'].str.startswith('Never-married'), 'Marital_Status'] = 'Single'\n",
    "test_data.loc[test_data['Marital_Status'].str.startswith('Separated'), 'Marital_Status'] = 'Divorced'\n",
    "\n",
    "test_data.loc[test_data['Occupation'] == 'Adm-clerical', 'Occupation'] = 'Clerical'\n",
    "test_data.loc[test_data['Occupation'] == 'Exec-managerial', 'Occupation'] = 'Executive'\n",
    "test_data.loc[test_data['Occupation'] == 'Handlers-cleaners', 'Occupation'] = 'Clerical'\n",
    "test_data.loc[test_data['Occupation'] == 'Prof-specialty', 'Occupation'] = 'Professional'\n",
    "test_data.loc[test_data['Occupation'] == 'Other-service', 'Occupation'] = 'Other'\n",
    "test_data.loc[test_data['Occupation'] == 'Sales', 'Occupation'] = 'Sales'\n",
    "test_data.loc[test_data['Occupation'] == 'Transport-moving', 'Occupation'] = 'Transport'\n",
    "test_data.loc[test_data['Occupation'] == 'Farming-fishing', 'Occupation'] = 'Farming'\n",
    "test_data.loc[test_data['Occupation'] == 'Machine-op-inspct', 'Occupation'] = 'Mechanical'\n",
    "test_data.loc[test_data['Occupation'] == 'Tech-support', 'Occupation'] = 'Professional'\n",
    "test_data.loc[test_data['Occupation'] == 'Craft-repair', 'Occupation'] = 'Mechanical'\n",
    "test_data.loc[test_data['Occupation'] == 'Protective-serv', 'Occupation'] = 'Protective'\n",
    "test_data.loc[test_data['Occupation'] == 'Armed-Forces', 'Occupation'] = 'Protective'\n",
    "test_data.loc[test_data['Occupation'] == 'Priv-house-serv', 'Occupation'] = 'Clerical'\n",
    "\n",
    "test_data.loc[test_data['Relationship'] == 'Not-in-family', 'Relationship'] = 'Not in Family'\n",
    "test_data.loc[test_data['Relationship'] == 'Own-child', 'Relationship'] = 'Other'\n",
    "test_data.loc[test_data['Relationship'] == 'Unmarried', 'Relationship'] = 'Other'\n",
    "test_data.loc[test_data['Relationship'] == 'Other-relative', 'Relationship'] = 'Other'\n",
    "\n",
    "test_data.loc[test_data['Race'] == 'Asian-Pac-Islander', 'Race'] = 'Asian'\n",
    "test_data.loc[test_data['Race'] == 'Amer-Indian-Eskimo', 'Race'] = 'American Indian'\n",
    "\n",
    "test_data.loc[test_data['Country'] == 'United-States', 'Country'] = 'United States'\n",
    "test_data.loc[test_data['Country'] == 'Puerto-Rico', 'Country'] = 'United States'\n",
    "test_data.loc[test_data['Country'] == 'Outlying-US(Guam-USVI-etc)', 'Country'] = 'United States'\n",
    "test_data.loc[test_data['Country'] == 'Trinadad&Tobago', 'Country'] = 'Trinadad & Tobago'\n",
    "test_data.loc[test_data['Country'] == 'Hong', 'Country'] = 'Hong Kong'\n",
    "test_data.loc[test_data['Country'] == 'Holand-Netherlands', 'Country'] = 'Netherlands'\n",
    "\n",
    "test_data.loc[test_data['Salary'] == '<=50K', 'Salary'] = 1\n",
    "test_data.loc[test_data['Salary'] == '>50K', 'Salary'] = 0"
   ]
  },
  {
   "cell_type": "code",
   "execution_count": 55,
   "metadata": {
    "collapsed": true
   },
   "outputs": [],
   "source": [
    "# Converting test data into spark dataframe\n",
    "test_df = spark.createDataFrame(test_data)\n",
    "\n",
    "final_test_data = pipeline.fit(test_df).transform(test_df)"
   ]
  },
  {
   "cell_type": "markdown",
   "metadata": {},
   "source": [
    "### 3.2 Splitting into Test and Validation Set\n",
    "*** I will be using a part of test data for validating our model and the rest as untouched data for deploying our model. So let's break the total test data into two halves one for test and another for validation purpose. ***"
   ]
  },
  {
   "cell_type": "code",
   "execution_count": 56,
   "metadata": {
    "collapsed": true
   },
   "outputs": [],
   "source": [
    "validation_set, test_set = final_test_data.randomSplit([0.5, 0.5])\n",
    "validation_set = validation_set.select(col('scaledFeatures').alias('features'), col('Salary').cast('double').alias('label'))"
   ]
  },
  {
   "cell_type": "markdown",
   "metadata": {
    "collapsed": true
   },
   "source": [
    "# 4. Developing Machine Learning Model"
   ]
  },
  {
   "cell_type": "markdown",
   "metadata": {},
   "source": [
    "*** Let's start with a simple logistic regression ***"
   ]
  },
  {
   "cell_type": "markdown",
   "metadata": {},
   "source": [
    "### 4.1 Model Selection"
   ]
  },
  {
   "cell_type": "code",
   "execution_count": 57,
   "metadata": {
    "collapsed": true
   },
   "outputs": [],
   "source": [
    "from pyspark.ml.classification  import LogisticRegression\n",
    "lr = LogisticRegression(maxIter=10,  featuresCol='features', labelCol='label')"
   ]
  },
  {
   "cell_type": "markdown",
   "metadata": {},
   "source": [
    "### 4.2 Hyperparameter Selection"
   ]
  },
  {
   "cell_type": "code",
   "execution_count": 58,
   "metadata": {
    "collapsed": false
   },
   "outputs": [],
   "source": [
    "from pyspark.ml.tuning import ParamGridBuilder\n",
    "\n",
    "# Constructing a grid of parameters to search over\n",
    "paramGrid = (ParamGridBuilder()    \n",
    "             .addGrid(lr.regParam, [0.1, 0.01])    \n",
    "             .addGrid(lr.fitIntercept, [False, True])\n",
    "             .addGrid(lr.elasticNetParam, [0.0, 0.5, 1.0])\n",
    "             .build()\n",
    "            )"
   ]
  },
  {
   "cell_type": "markdown",
   "metadata": {},
   "source": [
    "### 4.3 K-fold Cross Validation"
   ]
  },
  {
   "cell_type": "code",
   "execution_count": 59,
   "metadata": {
    "collapsed": true
   },
   "outputs": [],
   "source": [
    "from pyspark.ml.evaluation import MulticlassClassificationEvaluator\n",
    "from pyspark.ml.tuning import CrossValidator\n",
    "# 5-fold cross-validation\n",
    "crossval = CrossValidator(estimator = lr,\n",
    "                          estimatorParamMaps = paramGrid,\n",
    "                          evaluator = MulticlassClassificationEvaluator(),\n",
    "                          numFolds = 5)  "
   ]
  },
  {
   "cell_type": "markdown",
   "metadata": {},
   "source": [
    "### 4.4 Training the Model"
   ]
  },
  {
   "cell_type": "code",
   "execution_count": 60,
   "metadata": {
    "collapsed": false
   },
   "outputs": [],
   "source": [
    "lrModel = crossval.fit(train_set)"
   ]
  },
  {
   "cell_type": "markdown",
   "metadata": {},
   "source": [
    "### 4.5 Model Evaluation"
   ]
  },
  {
   "cell_type": "code",
   "execution_count": 61,
   "metadata": {
    "collapsed": false
   },
   "outputs": [
    {
     "name": "stdout",
     "output_type": "stream",
     "text": [
      "+----------+-----+\n",
      "|prediction|label|\n",
      "+----------+-----+\n",
      "|       1.0|  1.0|\n",
      "|       1.0|  1.0|\n",
      "|       1.0|  1.0|\n",
      "|       1.0|  1.0|\n",
      "|       1.0|  1.0|\n",
      "|       1.0|  1.0|\n",
      "|       1.0|  1.0|\n",
      "|       1.0|  1.0|\n",
      "|       1.0|  1.0|\n",
      "|       1.0|  1.0|\n",
      "|       1.0|  1.0|\n",
      "|       1.0|  1.0|\n",
      "|       1.0|  1.0|\n",
      "|       1.0|  1.0|\n",
      "|       1.0|  1.0|\n",
      "|       1.0|  1.0|\n",
      "|       1.0|  1.0|\n",
      "|       1.0|  1.0|\n",
      "|       1.0|  1.0|\n",
      "|       1.0|  1.0|\n",
      "+----------+-----+\n",
      "only showing top 20 rows\n",
      "\n"
     ]
    }
   ],
   "source": [
    "results = lrModel.transform(validation_set)\n",
    "results.select('prediction', 'label').show()"
   ]
  },
  {
   "cell_type": "code",
   "execution_count": 62,
   "metadata": {
    "collapsed": false
   },
   "outputs": [],
   "source": [
    "# Model evaluation is still in RDD phase. So We will use rdd here instead of spark dataframe. \n",
    "from pyspark.mllib.evaluation import MulticlassMetrics\n",
    "\n",
    "predictionAndLabels = results.select('prediction', 'label').rdd"
   ]
  },
  {
   "cell_type": "code",
   "execution_count": 63,
   "metadata": {
    "collapsed": false
   },
   "outputs": [
    {
     "name": "stdout",
     "output_type": "stream",
     "text": [
      "Confusion Matrix\n",
      "[[ 1049.   829.]\n",
      " [  390.  5315.]]\n",
      "Accuracy: 0.84\n",
      "Precision: 0.83\n"
     ]
    }
   ],
   "source": [
    "metrics = MulticlassMetrics(predictionAndLabels)\n",
    "\n",
    "print('Confusion Matrix')\n",
    "print(metrics.confusionMatrix().toArray())\n",
    "print('Accuracy: %.2f'%metrics.accuracy)\n",
    "print('Precision: %.2f'%metrics.weightedPrecision)"
   ]
  },
  {
   "cell_type": "markdown",
   "metadata": {},
   "source": [
    "# 5. Extension to Multiple Classifiers"
   ]
  },
  {
   "cell_type": "markdown",
   "metadata": {},
   "source": [
    "### 5.1 Defining the Models"
   ]
  },
  {
   "cell_type": "code",
   "execution_count": 64,
   "metadata": {
    "collapsed": false
   },
   "outputs": [],
   "source": [
    "from pyspark.ml.classification  import LogisticRegression, RandomForestClassifier, GBTClassifier, NaiveBayes\n",
    "#, LinearSVC\n",
    "\n",
    "lr = LogisticRegression(maxIter=10,  featuresCol='features', labelCol='label')\n",
    "rcf = RandomForestClassifier(maxDepth = 10)\n",
    "gbt = GBTClassifier(maxDepth = 10)\n",
    "nb = NaiveBayes()\n",
    "# svc = LinearSVC()"
   ]
  },
  {
   "cell_type": "markdown",
   "metadata": {},
   "source": [
    "### 5.2 Hyper-parameter Selection"
   ]
  },
  {
   "cell_type": "code",
   "execution_count": 65,
   "metadata": {
    "collapsed": true
   },
   "outputs": [],
   "source": [
    "from pyspark.ml.tuning import ParamGridBuilder\n",
    "from pyspark.ml.evaluation import MulticlassClassificationEvaluator\n",
    "from pyspark.ml.tuning import CrossValidator\n",
    "from pyspark.mllib.evaluation import MulticlassMetrics\n",
    "\n",
    "lrGrid = (ParamGridBuilder()    \n",
    "             .addGrid(lr.regParam, [0.1, 0.01])    \n",
    "             .addGrid(lr.fitIntercept, [False, True])\n",
    "             .addGrid(lr.elasticNetParam, [0.0, 0.5, 1.0])\n",
    "             .build()\n",
    "            )\n",
    "\n",
    "rcfGrid = (ParamGridBuilder()\n",
    "             .addGrid(rcf.numTrees, [20, 50, 100])\n",
    "             .addGrid(rcf.featureSubsetStrategy, ['auto', 'sqrt'])\n",
    "             .addGrid(rcf.minInfoGain, [0.01, 0.001])\n",
    "             .build()\n",
    "            )\n",
    "\n",
    "gbtGrid = (ParamGridBuilder()\n",
    "             .addGrid(gbt.lossType, ['logistic'])\n",
    "             .build()\n",
    "            )\n",
    "\n",
    "nbGrid = (ParamGridBuilder()\n",
    "             .addGrid(nb.modelType, ['multinomial'])\n",
    "             .build()\n",
    "            )"
   ]
  },
  {
   "cell_type": "markdown",
   "metadata": {},
   "source": [
    "### 5.3 Cross Validation, Training, and Model Evaluation \n",
    "*** Here we will apply the each steps we followed in section 4 for each of the models we defined in section 5.1***"
   ]
  },
  {
   "cell_type": "code",
   "execution_count": 66,
   "metadata": {
    "collapsed": false
   },
   "outputs": [],
   "source": [
    "index = ('Logistic Regression', 'Random Forst Classifier', 'Gadient Boost', 'Naive Bayes')\n",
    "columns = ['Accuracy', 'Precision', 'True Positive Rate','False Positive Rate']\n",
    "performance = pd.DataFrame(index = index, columns = columns)"
   ]
  },
  {
   "cell_type": "code",
   "execution_count": 67,
   "metadata": {
    "collapsed": false
   },
   "outputs": [
    {
     "name": "stdout",
     "output_type": "stream",
     "text": [
      "                        Accuracy Precision True Positive Rate  \\\n",
      "Logistic Regression         0.84      0.83               0.84   \n",
      "Random Forst Classifier     0.84      0.83               0.84   \n",
      "Gadient Boost               0.84      0.83               0.84   \n",
      "Naive Bayes                 0.84      0.83               0.84   \n",
      "\n",
      "                        False Positive Rate  \n",
      "Logistic Regression                    0.35  \n",
      "Random Forst Classifier                0.35  \n",
      "Gadient Boost                          0.35  \n",
      "Naive Bayes                            0.35  \n"
     ]
    }
   ],
   "source": [
    "for clf, grid, name in zip([lr, rcf, gbt, nb], \n",
    "                           [lrGrid, rcfGrid, gbtGrid, nbGrid], \n",
    "                           ['Logistic Regression', 'Random Forst Classifier', 'Gadient Boost', 'Naive Bayes']):\n",
    "    crossval = CrossValidator(estimator = clf,\n",
    "                             estimatorParamMaps = grid,\n",
    "                             evaluator = MulticlassClassificationEvaluator(),\n",
    "                             numFolds = 2)\n",
    "    # restricted to numFolds = 2 because of computational capacity. I would use 5-10 fold validation for real time jobs.\n",
    "    model = crossval.fit(train_set)\n",
    "    result  = model.transform(validation_set)\n",
    "    pred = result.select('prediction', 'label').rdd\n",
    "    metrcis = MulticlassMetrics(pred)\n",
    "    performance.loc[name, 'Accuracy'] = '%.2f'%metrics.accuracy\n",
    "    performance.loc[name, 'Precision'] = '%.2f'%metrics.weightedPrecision\n",
    "    performance.loc[name, 'True Positive Rate'] = '%.2f'%metrics.weightedTruePositiveRate\n",
    "    performance.loc[name, 'False Positive Rate'] = '%.2f'%metrics.weightedFalsePositiveRate   \n",
    "    \n",
    "print(performance)    "
   ]
  },
  {
   "cell_type": "markdown",
   "metadata": {},
   "source": [
    "*** Here, all the models we considered with optimized hyperparameters give us the same accuracy. So let's just use the simple model - Logistic Regression from section 4.4- to deploy our model in the test set***"
   ]
  },
  {
   "cell_type": "markdown",
   "metadata": {},
   "source": [
    "# 6. Deploying the Best Model"
   ]
  },
  {
   "cell_type": "code",
   "execution_count": 68,
   "metadata": {
    "collapsed": false
   },
   "outputs": [],
   "source": [
    "# Dropping the label(Salary) from the test set to make prediction\n",
    "test_set = test_set.drop('Salary')\n",
    "# Applying the model to the test data\n",
    "final_result  = lrModel.transform(test_set)"
   ]
  },
  {
   "cell_type": "code",
   "execution_count": 69,
   "metadata": {
    "collapsed": false
   },
   "outputs": [
    {
     "name": "stdout",
     "output_type": "stream",
     "text": [
      "+---+---------+------+------------+--------------+------------+-------------+-----+------+------------+------------+-----+-------------+----------+\n",
      "|Age|Workclass|Fnlgwt|   Education|Marital_Status|  Occupation| Relationship| Race|   Sex|Capital_Gain|Capital_Loss|Hours|      Country|prediction|\n",
      "+---+---------+------+------------+--------------+------------+-------------+-----+------+------------+------------+-----+-------------+----------+\n",
      "| 17|  Private| 28544|    Literate|        Single|       Sales|Not in Family|White|Female|           0|           0|   20|United States|       0.0|\n",
      "| 17|  Private| 81010|    Literate|        Single|       Sales|        Other|White|Female|           0|           0|   20|United States|       0.0|\n",
      "| 17|  Private|269430|    Literate|        Single|  Mechanical|Not in Family|White|  Male|           0|           0|   40|United States|       0.0|\n",
      "| 18|  Private| 42857|Some College|        Single|       Sales|        Other|White|Female|           0|           0|   20|United States|       0.0|\n",
      "| 18|  Private| 90860|Some College|        Single|       Sales|        Other|Asian|Female|           0|           0|   20|United States|       0.0|\n",
      "| 18|  Private| 96869|    Literate|        Single|    Clerical|        Other|White|  Male|           0|           0|   40|United States|       0.0|\n",
      "| 18|  Private|161245|    Literate|        Single|       Other|        Other|White|  Male|           0|           0|   15|United States|       0.0|\n",
      "| 18|  Private|179020| High School|        Single|  Mechanical|        Other|White|Female|           0|           0|   48|United States|       0.0|\n",
      "| 18|  Private|217439| High School|        Single|       Other|Not in Family|White|Female|           0|           0|   28|United States|       0.0|\n",
      "| 18|  Private|228216| High School|        Single|    Clerical|        Other|White|  Male|           0|           0|   20|United States|       0.0|\n",
      "| 18|  Private|366154| High School|        Single|       Other|Not in Family|White|  Male|           0|           0|   30|United States|       0.0|\n",
      "| 18| Self Emp|352640|Some College|        Single|    Clerical|        Other|White|Female|           0|           0|   20|United States|       0.0|\n",
      "| 19|      Gov| 42750| High School|        Single|  Protective|        Other|White|  Male|           0|           0|   40|United States|       0.0|\n",
      "| 19|      Gov|220558|    Literate|        Single|    Clerical|        Other|White|  Male|           0|           0|   35|United States|       0.0|\n",
      "| 19|      Gov|223326|Some College|        Single|  Protective|        Other|White|  Male|           0|        1721|   35|United States|       0.0|\n",
      "| 19|      Gov|259169|Some College|        Single|Professional|        Other|White|Female|           0|           0|   30|United States|       0.0|\n",
      "| 19|  Private| 53355|    Literate|        Single|       Sales|Not in Family|White|  Male|           0|           0|   12|United States|       0.0|\n",
      "| 19|  Private|124464|Some College|        Single|  Mechanical|        Other|White|  Male|           0|           0|   40|United States|       0.0|\n",
      "| 19|  Private|191986|    Literate|        Single|       Sales|        Other|White|Female|           0|           0|   40|United States|       0.0|\n",
      "| 19|  Private|248730|Some College|        Single|  Protective|        Other|White|  Male|           0|           0|   30|United States|       0.0|\n",
      "+---+---------+------+------------+--------------+------------+-------------+-----+------+------------+------------+-----+-------------+----------+\n",
      "only showing top 20 rows\n",
      "\n"
     ]
    }
   ],
   "source": [
    "# Priting the final result with original features\n",
    "final_result.select('Age', 'Workclass', 'Fnlgwt', 'Education', 'Marital_Status', 'Occupation', 'Relationship',\n",
    "                    'Race', 'Sex', 'Capital_Gain', 'Capital_Loss', 'Hours', 'Country', 'prediction').show()"
   ]
  },
  {
   "cell_type": "code",
   "execution_count": null,
   "metadata": {
    "collapsed": true
   },
   "outputs": [],
   "source": []
  }
 ],
 "metadata": {
  "anaconda-cloud": {},
  "kernelspec": {
   "display_name": "Python [conda root]",
   "language": "python",
   "name": "conda-root-py"
  },
  "language_info": {
   "codemirror_mode": {
    "name": "ipython",
    "version": 3
   },
   "file_extension": ".py",
   "mimetype": "text/x-python",
   "name": "python",
   "nbconvert_exporter": "python",
   "pygments_lexer": "ipython3",
   "version": "3.5.2"
  }
 },
 "nbformat": 4,
 "nbformat_minor": 1
}
